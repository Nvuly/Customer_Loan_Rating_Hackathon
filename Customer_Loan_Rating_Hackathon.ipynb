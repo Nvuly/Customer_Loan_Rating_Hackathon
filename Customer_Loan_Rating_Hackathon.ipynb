{
 "cells": [
  {
   "cell_type": "markdown",
   "metadata": {},
   "source": [
    "# Objectives \n",
    "- 고객의 대출 등급에 따른 분류\n",
    "- EDA(탐색적데이터탐색) 이후 isnull().sum(), 단위제거 및 자료형 변환 \n",
    "- pd.concat, Feature Engineering\n",
    "\n",
    "train.csv [파일] \n",
    "고객 관련 금융 정보\n",
    "ID : 대출 고객의 고유 ID\n",
    "대출등급 : 예측 목표\n",
    "\n",
    "\n",
    "test.csv [파일]\n",
    "고객 관련 금융 정보\n",
    "ID : 대출 고객의 고유 ID\n",
    "대출등급이 존재하지 않음\n",
    "\n",
    "\n",
    "sample_submission.csv [파일] - 제출 양식\n",
    "ID : 대출 고객의 고유 ID\n",
    "대출등급 : test.csv에서 제공된 고객의 대출등급을 예측하여 기입\n"
   ]
  },
  {
   "cell_type": "markdown",
   "metadata": {},
   "source": [
    "## Import Functions"
   ]
  },
  {
   "cell_type": "code",
   "execution_count": 59,
   "metadata": {},
   "outputs": [],
   "source": [
    "import pandas as pd\n",
    "import numpy as np\n",
    "from bs4 import BeautifulSoup\n",
    "import requests\n",
    "import random\n",
    "import os\n",
    "import matplotlib.pyplot as plt\n",
    "import seaborn as sns"
   ]
  },
  {
   "cell_type": "markdown",
   "metadata": {},
   "source": [
    "## Load Train Data"
   ]
  },
  {
   "cell_type": "code",
   "execution_count": 60,
   "metadata": {},
   "outputs": [
    {
     "name": "stdout",
     "output_type": "stream",
     "text": [
      "학습용 데이터 : \n",
      "                ID      대출금액        대출기간       근로기간    주택소유상태       연간소득  \\\n",
      "0      TRAIN_00000  12480000   36 months    6 years      RENT   72000000   \n",
      "1      TRAIN_00001  14400000   60 months  10+ years  MORTGAGE  130800000   \n",
      "2      TRAIN_00002  12000000   36 months    5 years  MORTGAGE   96000000   \n",
      "3      TRAIN_00003  14400000   36 months    8 years  MORTGAGE  132000000   \n",
      "4      TRAIN_00004  18000000   60 months    Unknown      RENT   71736000   \n",
      "...            ...       ...         ...        ...       ...        ...   \n",
      "96289  TRAIN_96289  14400000   36 months  10+ years  MORTGAGE  210000000   \n",
      "96290  TRAIN_96290  28800000   60 months  10+ years  MORTGAGE  132000000   \n",
      "96291  TRAIN_96291  14400000   36 months     1 year  MORTGAGE   84000000   \n",
      "96292  TRAIN_96292  15600000   36 months    5 years  MORTGAGE   66330000   \n",
      "96293  TRAIN_96293   8640000   36 months  10+ years      RENT   50400000   \n",
      "\n",
      "       부채_대비_소득_비율  총계좌수   대출목적  최근_2년간_연체_횟수    총상환원금     총상환이자  총연체금액  \\\n",
      "0            18.90    15  부채 통합             0        0       0.0    0.0   \n",
      "1            22.33    21  주택 개선             0   373572  234060.0    0.0   \n",
      "2             8.60    14  부채 통합             0   928644  151944.0    0.0   \n",
      "3            15.09    15  부채 통합             0   325824  153108.0    0.0   \n",
      "4            25.39    19  주요 구매             0   228540  148956.0    0.0   \n",
      "...            ...   ...    ...           ...      ...       ...    ...   \n",
      "96289         9.33    33  신용 카드             0   974580  492168.0    0.0   \n",
      "96290         5.16    25  주택 개선             0   583728  855084.0    0.0   \n",
      "96291        11.24    22  신용 카드             0  1489128  241236.0    0.0   \n",
      "96292        17.30    21  부채 통합             2  1378368  818076.0    0.0   \n",
      "96293        11.80    14  신용 카드             0   596148  274956.0    0.0   \n",
      "\n",
      "       연체계좌수 대출등급  \n",
      "0        0.0    C  \n",
      "1        0.0    B  \n",
      "2        0.0    A  \n",
      "3        0.0    C  \n",
      "4        0.0    B  \n",
      "...      ...  ...  \n",
      "96289    0.0    C  \n",
      "96290    0.0    E  \n",
      "96291    0.0    A  \n",
      "96292    0.0    D  \n",
      "96293    0.0    C  \n",
      "\n",
      "[96294 rows x 15 columns]\n"
     ]
    },
    {
     "data": {
      "text/plain": [
       "ID              0\n",
       "대출금액            0\n",
       "대출기간            0\n",
       "근로기간            0\n",
       "주택소유상태          0\n",
       "연간소득            0\n",
       "부채_대비_소득_비율     0\n",
       "총계좌수            0\n",
       "대출목적            0\n",
       "최근_2년간_연체_횟수    0\n",
       "총상환원금           0\n",
       "총상환이자           0\n",
       "총연체금액           0\n",
       "연체계좌수           0\n",
       "대출등급            0\n",
       "dtype: int64"
      ]
     },
     "execution_count": 60,
     "metadata": {},
     "output_type": "execute_result"
    }
   ],
   "source": [
    "# 학습용 데이터 불러오기\n",
    "\n",
    "train_path = 'D:\\Code\\[중]고객 대출 등급 분류 해커톤/train.csv'\n",
    "\n",
    "df_train = pd.read_csv(train_path)\n",
    "\n",
    "print(f'학습용 데이터 : \\n{df_train}')\n",
    "\n",
    "df_train.isnull().sum()\n",
    "\n",
    "# 누락 데이터 없음"
   ]
  },
  {
   "cell_type": "code",
   "execution_count": 61,
   "metadata": {},
   "outputs": [
    {
     "name": "stdout",
     "output_type": "stream",
     "text": [
      "<class 'pandas.core.frame.DataFrame'>\n",
      "RangeIndex: 96294 entries, 0 to 96293\n",
      "Data columns (total 15 columns):\n",
      " #   Column        Non-Null Count  Dtype  \n",
      "---  ------        --------------  -----  \n",
      " 0   ID            96294 non-null  object \n",
      " 1   대출금액          96294 non-null  int64  \n",
      " 2   대출기간          96294 non-null  object \n",
      " 3   근로기간          96294 non-null  object \n",
      " 4   주택소유상태        96294 non-null  object \n",
      " 5   연간소득          96294 non-null  int64  \n",
      " 6   부채_대비_소득_비율   96294 non-null  float64\n",
      " 7   총계좌수          96294 non-null  int64  \n",
      " 8   대출목적          96294 non-null  object \n",
      " 9   최근_2년간_연체_횟수  96294 non-null  int64  \n",
      " 10  총상환원금         96294 non-null  int64  \n",
      " 11  총상환이자         96294 non-null  float64\n",
      " 12  총연체금액         96294 non-null  float64\n",
      " 13  연체계좌수         96294 non-null  float64\n",
      " 14  대출등급          96294 non-null  object \n",
      "dtypes: float64(4), int64(5), object(6)\n",
      "memory usage: 11.0+ MB\n"
     ]
    }
   ],
   "source": [
    "df_train.info()"
   ]
  },
  {
   "cell_type": "code",
   "execution_count": 90,
   "metadata": {},
   "outputs": [
    {
     "name": "stdout",
     "output_type": "stream",
     "text": [
      "********************************************************************************\n",
      "0        C\n",
      "1        B\n",
      "2        A\n",
      "3        C\n",
      "4        B\n",
      "        ..\n",
      "96289    C\n",
      "96290    E\n",
      "96291    A\n",
      "96292    D\n",
      "96293    C\n",
      "Name: 대출등급, Length: 96294, dtype: object\n",
      "********************************************************************************\n",
      "                ID      대출금액        대출기간       근로기간    주택소유상태       연간소득  \\\n",
      "0      TRAIN_00000  12480000   36 months    6 years      RENT   72000000   \n",
      "1      TRAIN_00001  14400000   60 months  10+ years  MORTGAGE  130800000   \n",
      "2      TRAIN_00002  12000000   36 months    5 years  MORTGAGE   96000000   \n",
      "3      TRAIN_00003  14400000   36 months    8 years  MORTGAGE  132000000   \n",
      "4      TRAIN_00004  18000000   60 months    Unknown      RENT   71736000   \n",
      "...            ...       ...         ...        ...       ...        ...   \n",
      "96289  TRAIN_96289  14400000   36 months  10+ years  MORTGAGE  210000000   \n",
      "96290  TRAIN_96290  28800000   60 months  10+ years  MORTGAGE  132000000   \n",
      "96291  TRAIN_96291  14400000   36 months     1 year  MORTGAGE   84000000   \n",
      "96292  TRAIN_96292  15600000   36 months    5 years  MORTGAGE   66330000   \n",
      "96293  TRAIN_96293   8640000   36 months  10+ years      RENT   50400000   \n",
      "\n",
      "       부채_대비_소득_비율  총계좌수   대출목적  최근_2년간_연체_횟수    총상환원금     총상환이자  총연체금액  연체계좌수  \n",
      "0            18.90    15  부채 통합             0        0       0.0    0.0    0.0  \n",
      "1            22.33    21  주택 개선             0   373572  234060.0    0.0    0.0  \n",
      "2             8.60    14  부채 통합             0   928644  151944.0    0.0    0.0  \n",
      "3            15.09    15  부채 통합             0   325824  153108.0    0.0    0.0  \n",
      "4            25.39    19  주요 구매             0   228540  148956.0    0.0    0.0  \n",
      "...            ...   ...    ...           ...      ...       ...    ...    ...  \n",
      "96289         9.33    33  신용 카드             0   974580  492168.0    0.0    0.0  \n",
      "96290         5.16    25  주택 개선             0   583728  855084.0    0.0    0.0  \n",
      "96291        11.24    22  신용 카드             0  1489128  241236.0    0.0    0.0  \n",
      "96292        17.30    21  부채 통합             2  1378368  818076.0    0.0    0.0  \n",
      "96293        11.80    14  신용 카드             0   596148  274956.0    0.0    0.0  \n",
      "\n",
      "[96294 rows x 14 columns]\n",
      "********************************************************************************\n"
     ]
    }
   ],
   "source": [
    "# 정답, 레이블 컬럼 : 대출등급\n",
    "label = df_train.loc[:,'대출등급']\n",
    "\n",
    "cleaned_df=df_train.drop(columns=['대출등급'])\n",
    "\n",
    "print('*'*80)\n",
    "\n",
    "print(label)\n",
    "\n",
    "print('*'*80)\n",
    "\n",
    "print(cleaned_df)\n",
    "\n",
    "print('*'*80)\n",
    "\n"
   ]
  },
  {
   "cell_type": "code",
   "execution_count": 91,
   "metadata": {},
   "outputs": [
    {
     "data": {
      "text/plain": [
       "대출등급\n",
       "B    28817\n",
       "C    27623\n",
       "A    16772\n",
       "D    13354\n",
       "E     7354\n",
       "F     1954\n",
       "G      420\n",
       "Name: count, dtype: int64"
      ]
     },
     "execution_count": 91,
     "metadata": {},
     "output_type": "execute_result"
    }
   ],
   "source": [
    "label.value_counts()"
   ]
  },
  {
   "cell_type": "code",
   "execution_count": 93,
   "metadata": {},
   "outputs": [
    {
     "name": "stdout",
     "output_type": "stream",
     "text": [
      "                ID      대출금액        대출기간       근로기간    주택소유상태       연간소득  \\\n",
      "0      TRAIN_00000  12480000   36 months    6 years      RENT   72000000   \n",
      "1      TRAIN_00001  14400000   60 months  10+ years  MORTGAGE  130800000   \n",
      "2      TRAIN_00002  12000000   36 months    5 years  MORTGAGE   96000000   \n",
      "3      TRAIN_00003  14400000   36 months    8 years  MORTGAGE  132000000   \n",
      "4      TRAIN_00004  18000000   60 months    Unknown      RENT   71736000   \n",
      "...            ...       ...         ...        ...       ...        ...   \n",
      "96289  TRAIN_96289  14400000   36 months  10+ years  MORTGAGE  210000000   \n",
      "96290  TRAIN_96290  28800000   60 months  10+ years  MORTGAGE  132000000   \n",
      "96291  TRAIN_96291  14400000   36 months     1 year  MORTGAGE   84000000   \n",
      "96292  TRAIN_96292  15600000   36 months    5 years  MORTGAGE   66330000   \n",
      "96293  TRAIN_96293   8640000   36 months  10+ years      RENT   50400000   \n",
      "\n",
      "       부채_대비_소득_비율  총계좌수   대출목적  최근_2년간_연체_횟수    총상환원금     총상환이자  총연체금액  \\\n",
      "0            18.90    15  부채 통합             0        0       0.0    0.0   \n",
      "1            22.33    21  주택 개선             0   373572  234060.0    0.0   \n",
      "2             8.60    14  부채 통합             0   928644  151944.0    0.0   \n",
      "3            15.09    15  부채 통합             0   325824  153108.0    0.0   \n",
      "4            25.39    19  주요 구매             0   228540  148956.0    0.0   \n",
      "...            ...   ...    ...           ...      ...       ...    ...   \n",
      "96289         9.33    33  신용 카드             0   974580  492168.0    0.0   \n",
      "96290         5.16    25  주택 개선             0   583728  855084.0    0.0   \n",
      "96291        11.24    22  신용 카드             0  1489128  241236.0    0.0   \n",
      "96292        17.30    21  부채 통합             2  1378368  818076.0    0.0   \n",
      "96293        11.80    14  신용 카드             0   596148  274956.0    0.0   \n",
      "\n",
      "       연체계좌수 대출등급  \n",
      "0        0.0    C  \n",
      "1        0.0    B  \n",
      "2        0.0    A  \n",
      "3        0.0    C  \n",
      "4        0.0    B  \n",
      "...      ...  ...  \n",
      "96289    0.0    C  \n",
      "96290    0.0    E  \n",
      "96291    0.0    A  \n",
      "96292    0.0    D  \n",
      "96293    0.0    C  \n",
      "\n",
      "[96294 rows x 15 columns]\n"
     ]
    }
   ],
   "source": [
    "print(df_train)"
   ]
  },
  {
   "cell_type": "markdown",
   "metadata": {},
   "source": [
    "### Label Encoding"
   ]
  },
  {
   "cell_type": "code",
   "execution_count": 92,
   "metadata": {},
   "outputs": [
    {
     "name": "stdout",
     "output_type": "stream",
     "text": [
      "['A' 'B' 'C' 'D' 'E' 'F' 'G']\n"
     ]
    }
   ],
   "source": [
    "kind1 = np.unique(df_train.loc[:,'대출등급'].values)\n",
    "print(kind1)"
   ]
  },
  {
   "cell_type": "code",
   "execution_count": 95,
   "metadata": {},
   "outputs": [
    {
     "name": "stdout",
     "output_type": "stream",
     "text": [
      "['1 year' '1 years' '10+ years' '10+years' '2 years' '3' '3 years'\n",
      " '4 years' '5 years' '6 years' '7 years' '8 years' '9 years' '< 1 year'\n",
      " '<1 year' 'Unknown']\n",
      "6\n"
     ]
    }
   ],
   "source": [
    "kind2 = np.unique(df_train.loc[:,'근로기간'].values)\n",
    "print(kind2)\n",
    "\n"
   ]
  },
  {
   "cell_type": "markdown",
   "metadata": {},
   "source": [
    "# EDA"
   ]
  },
  {
   "cell_type": "code",
   "execution_count": 65,
   "metadata": {},
   "outputs": [
    {
     "name": "stderr",
     "output_type": "stream",
     "text": [
      "c:\\Users\\human\\anaconda3\\Lib\\site-packages\\IPython\\core\\pylabtools.py:152: UserWarning: Glyph 45824 (\\N{HANGUL SYLLABLE DAE}) missing from current font.\n",
      "  fig.canvas.print_figure(bytes_io, **kw)\n",
      "c:\\Users\\human\\anaconda3\\Lib\\site-packages\\IPython\\core\\pylabtools.py:152: UserWarning: Glyph 52636 (\\N{HANGUL SYLLABLE CUL}) missing from current font.\n",
      "  fig.canvas.print_figure(bytes_io, **kw)\n",
      "c:\\Users\\human\\anaconda3\\Lib\\site-packages\\IPython\\core\\pylabtools.py:152: UserWarning: Glyph 46321 (\\N{HANGUL SYLLABLE DEUNG}) missing from current font.\n",
      "  fig.canvas.print_figure(bytes_io, **kw)\n",
      "c:\\Users\\human\\anaconda3\\Lib\\site-packages\\IPython\\core\\pylabtools.py:152: UserWarning: Glyph 44553 (\\N{HANGUL SYLLABLE GEUB}) missing from current font.\n",
      "  fig.canvas.print_figure(bytes_io, **kw)\n",
      "c:\\Users\\human\\anaconda3\\Lib\\site-packages\\IPython\\core\\pylabtools.py:152: UserWarning: Glyph 44552 (\\N{HANGUL SYLLABLE GEUM}) missing from current font.\n",
      "  fig.canvas.print_figure(bytes_io, **kw)\n",
      "c:\\Users\\human\\anaconda3\\Lib\\site-packages\\IPython\\core\\pylabtools.py:152: UserWarning: Glyph 50529 (\\N{HANGUL SYLLABLE AEG}) missing from current font.\n",
      "  fig.canvas.print_figure(bytes_io, **kw)\n"
     ]
    },
    {
     "data": {
      "image/png": "[encoded data removed]",
      "text/plain": [
       "<Figure size 1000x600 with 1 Axes>"
      ]
     },
     "metadata": {},
     "output_type": "display_data"
    }
   ],
   "source": [
    "### 고객의 대출금액과 고객의 대출등급과의 관계 분석\n",
    "\n",
    "sns.boxplot(data=df_train, x='대출등급', y='대출금액')\n",
    "plt.rcParams['figure.figsize'] = [10, 6]\n",
    "plt.show()"
   ]
  },
  {
   "cell_type": "code",
   "execution_count": 66,
   "metadata": {},
   "outputs": [
    {
     "data": {
      "text/plain": [
       "'\\n\\n대출금액이 올라갈수록 대출등급이 떨어지거나 하는 뚜렷한 인과는 없지만\\n\\n대출등급이 높은 집단들은 대부분 대출금액이 적당한 선을 유지하는 것으로 해석된다\\n\\n'"
      ]
     },
     "execution_count": 66,
     "metadata": {},
     "output_type": "execute_result"
    }
   ],
   "source": [
    "'''\n",
    "\n",
    "대출금액이 올라갈수록 대출등급이 떨어지거나 하는 뚜렷한 인과는 없지만\n",
    "\n",
    "대출등급이 높은 집단들은 대부분 대출금액이 적당한 선을 유지하는 것으로 해석된다\n",
    "\n",
    "'''\n",
    "\n"
   ]
  },
  {
   "cell_type": "code",
   "execution_count": 67,
   "metadata": {},
   "outputs": [
    {
     "name": "stderr",
     "output_type": "stream",
     "text": [
      "c:\\Users\\human\\anaconda3\\Lib\\site-packages\\IPython\\core\\pylabtools.py:152: UserWarning: Glyph 45824 (\\N{HANGUL SYLLABLE DAE}) missing from current font.\n",
      "  fig.canvas.print_figure(bytes_io, **kw)\n",
      "c:\\Users\\human\\anaconda3\\Lib\\site-packages\\IPython\\core\\pylabtools.py:152: UserWarning: Glyph 52636 (\\N{HANGUL SYLLABLE CUL}) missing from current font.\n",
      "  fig.canvas.print_figure(bytes_io, **kw)\n",
      "c:\\Users\\human\\anaconda3\\Lib\\site-packages\\IPython\\core\\pylabtools.py:152: UserWarning: Glyph 44592 (\\N{HANGUL SYLLABLE GI}) missing from current font.\n",
      "  fig.canvas.print_figure(bytes_io, **kw)\n",
      "c:\\Users\\human\\anaconda3\\Lib\\site-packages\\IPython\\core\\pylabtools.py:152: UserWarning: Glyph 44036 (\\N{HANGUL SYLLABLE GAN}) missing from current font.\n",
      "  fig.canvas.print_figure(bytes_io, **kw)\n",
      "c:\\Users\\human\\anaconda3\\Lib\\site-packages\\IPython\\core\\pylabtools.py:152: UserWarning: Glyph 46321 (\\N{HANGUL SYLLABLE DEUNG}) missing from current font.\n",
      "  fig.canvas.print_figure(bytes_io, **kw)\n",
      "c:\\Users\\human\\anaconda3\\Lib\\site-packages\\IPython\\core\\pylabtools.py:152: UserWarning: Glyph 44553 (\\N{HANGUL SYLLABLE GEUB}) missing from current font.\n",
      "  fig.canvas.print_figure(bytes_io, **kw)\n"
     ]
    },
    {
     "data": {
      "image/png": "[encoded data removed]",
      "text/plain": [
       "<Figure size 1000x600 with 1 Axes>"
      ]
     },
     "metadata": {},
     "output_type": "display_data"
    }
   ],
   "source": [
    "### 고객의 대출기간과 고객의 대출등급의 관계 분석\n",
    "\n",
    "sns.countplot(data=df_train, x='대출기간', hue='대출등급')\n",
    "plt.rcParams['figure.figsize'] = [10, 6]\n",
    "plt.show()"
   ]
  },
  {
   "cell_type": "code",
   "execution_count": 68,
   "metadata": {},
   "outputs": [
    {
     "data": {
      "text/plain": [
       "'\\n\\n36개월 대출한 집단들 중 대출등급 B인원이 제일 많고 F인원이 제일 적다.\\n\\n60개월 대출한 집단들 중 대출등급 C인원이 제일 많고 G인원이 제일 적다.\\n\\n이와 같은 결과로 보다 대출등급이 높은 인원일수록 대출이 많고\\n\\n대출한 개월이 많을수록 대출등급이 낮은 인원들의 수는 감소가 된다.\\n\\n어찌보면 당연한 사실이다.\\n\\n'"
      ]
     },
     "execution_count": 68,
     "metadata": {},
     "output_type": "execute_result"
    }
   ],
   "source": [
    "'''\n",
    "\n",
    "36개월 대출한 집단들 중 대출등급 B인원이 제일 많고 F인원이 제일 적다.\n",
    "\n",
    "60개월 대출한 집단들 중 대출등급 C인원이 제일 많고 G인원이 제일 적다.\n",
    "\n",
    "이와 같은 결과로 보다 대출등급이 높은 인원일수록 대출이 많고\n",
    "\n",
    "대출한 개월이 많을수록 대출등급이 낮은 인원들의 수는 감소가 된다.\n",
    "\n",
    "어찌보면 당연한 사실이다.\n",
    "\n",
    "'''"
   ]
  },
  {
   "cell_type": "code",
   "execution_count": 69,
   "metadata": {},
   "outputs": [
    {
     "name": "stderr",
     "output_type": "stream",
     "text": [
      "c:\\Users\\human\\anaconda3\\Lib\\site-packages\\IPython\\core\\pylabtools.py:152: UserWarning: Glyph 45824 (\\N{HANGUL SYLLABLE DAE}) missing from current font.\n",
      "  fig.canvas.print_figure(bytes_io, **kw)\n",
      "c:\\Users\\human\\anaconda3\\Lib\\site-packages\\IPython\\core\\pylabtools.py:152: UserWarning: Glyph 52636 (\\N{HANGUL SYLLABLE CUL}) missing from current font.\n",
      "  fig.canvas.print_figure(bytes_io, **kw)\n",
      "c:\\Users\\human\\anaconda3\\Lib\\site-packages\\IPython\\core\\pylabtools.py:152: UserWarning: Glyph 46321 (\\N{HANGUL SYLLABLE DEUNG}) missing from current font.\n",
      "  fig.canvas.print_figure(bytes_io, **kw)\n",
      "c:\\Users\\human\\anaconda3\\Lib\\site-packages\\IPython\\core\\pylabtools.py:152: UserWarning: Glyph 44553 (\\N{HANGUL SYLLABLE GEUB}) missing from current font.\n",
      "  fig.canvas.print_figure(bytes_io, **kw)\n",
      "c:\\Users\\human\\anaconda3\\Lib\\site-packages\\IPython\\core\\pylabtools.py:152: UserWarning: Glyph 44540 (\\N{HANGUL SYLLABLE GEUN}) missing from current font.\n",
      "  fig.canvas.print_figure(bytes_io, **kw)\n",
      "c:\\Users\\human\\anaconda3\\Lib\\site-packages\\IPython\\core\\pylabtools.py:152: UserWarning: Glyph 47196 (\\N{HANGUL SYLLABLE RO}) missing from current font.\n",
      "  fig.canvas.print_figure(bytes_io, **kw)\n",
      "c:\\Users\\human\\anaconda3\\Lib\\site-packages\\IPython\\core\\pylabtools.py:152: UserWarning: Glyph 44592 (\\N{HANGUL SYLLABLE GI}) missing from current font.\n",
      "  fig.canvas.print_figure(bytes_io, **kw)\n",
      "c:\\Users\\human\\anaconda3\\Lib\\site-packages\\IPython\\core\\pylabtools.py:152: UserWarning: Glyph 44036 (\\N{HANGUL SYLLABLE GAN}) missing from current font.\n",
      "  fig.canvas.print_figure(bytes_io, **kw)\n"
     ]
    },
    {
     "data": {
      "image/png": "[encoded data removed]",
      "text/plain": [
       "<Figure size 1000x600 with 1 Axes>"
      ]
     },
     "metadata": {},
     "output_type": "display_data"
    }
   ],
   "source": [
    "### 근로기간과 고객의 대출등급과의 관계 분석\n",
    "\n",
    "sns.countplot(data=df_train, x='대출등급', hue='근로기간')\n",
    "plt.rcParams['figure.figsize'] = [10, 6]\n",
    "plt.show()"
   ]
  },
  {
   "cell_type": "code",
   "execution_count": 70,
   "metadata": {},
   "outputs": [
    {
     "data": {
      "text/plain": [
       "'\\n\\n10년 이상 근로한 인원이 제일 많은 집단은 B그룹이며, C A D E F G 순서대로 이어진다.\\n\\n근로한 인원이 높을수록 대출등급자체가 높은 것으로 보인다.\\n\\n'"
      ]
     },
     "execution_count": 70,
     "metadata": {},
     "output_type": "execute_result"
    }
   ],
   "source": [
    "'''\n",
    "\n",
    "10년 이상 근로한 인원이 제일 많은 집단은 B그룹이며, C A D E F G 순서대로 이어진다.\n",
    "\n",
    "근로한 인원이 높을수록 대출등급자체가 높은 것으로 보인다.\n",
    "\n",
    "'''\n",
    "\n"
   ]
  },
  {
   "cell_type": "code",
   "execution_count": 71,
   "metadata": {},
   "outputs": [
    {
     "name": "stderr",
     "output_type": "stream",
     "text": [
      "c:\\Users\\human\\anaconda3\\Lib\\site-packages\\IPython\\core\\pylabtools.py:152: UserWarning: Glyph 51452 (\\N{HANGUL SYLLABLE JU}) missing from current font.\n",
      "  fig.canvas.print_figure(bytes_io, **kw)\n",
      "c:\\Users\\human\\anaconda3\\Lib\\site-packages\\IPython\\core\\pylabtools.py:152: UserWarning: Glyph 53469 (\\N{HANGUL SYLLABLE TAEG}) missing from current font.\n",
      "  fig.canvas.print_figure(bytes_io, **kw)\n",
      "c:\\Users\\human\\anaconda3\\Lib\\site-packages\\IPython\\core\\pylabtools.py:152: UserWarning: Glyph 49548 (\\N{HANGUL SYLLABLE SO}) missing from current font.\n",
      "  fig.canvas.print_figure(bytes_io, **kw)\n",
      "c:\\Users\\human\\anaconda3\\Lib\\site-packages\\IPython\\core\\pylabtools.py:152: UserWarning: Glyph 50976 (\\N{HANGUL SYLLABLE YU}) missing from current font.\n",
      "  fig.canvas.print_figure(bytes_io, **kw)\n",
      "c:\\Users\\human\\anaconda3\\Lib\\site-packages\\IPython\\core\\pylabtools.py:152: UserWarning: Glyph 49345 (\\N{HANGUL SYLLABLE SANG}) missing from current font.\n",
      "  fig.canvas.print_figure(bytes_io, **kw)\n",
      "c:\\Users\\human\\anaconda3\\Lib\\site-packages\\IPython\\core\\pylabtools.py:152: UserWarning: Glyph 53468 (\\N{HANGUL SYLLABLE TAE}) missing from current font.\n",
      "  fig.canvas.print_figure(bytes_io, **kw)\n",
      "c:\\Users\\human\\anaconda3\\Lib\\site-packages\\IPython\\core\\pylabtools.py:152: UserWarning: Glyph 45824 (\\N{HANGUL SYLLABLE DAE}) missing from current font.\n",
      "  fig.canvas.print_figure(bytes_io, **kw)\n",
      "c:\\Users\\human\\anaconda3\\Lib\\site-packages\\IPython\\core\\pylabtools.py:152: UserWarning: Glyph 52636 (\\N{HANGUL SYLLABLE CUL}) missing from current font.\n",
      "  fig.canvas.print_figure(bytes_io, **kw)\n",
      "c:\\Users\\human\\anaconda3\\Lib\\site-packages\\IPython\\core\\pylabtools.py:152: UserWarning: Glyph 46321 (\\N{HANGUL SYLLABLE DEUNG}) missing from current font.\n",
      "  fig.canvas.print_figure(bytes_io, **kw)\n",
      "c:\\Users\\human\\anaconda3\\Lib\\site-packages\\IPython\\core\\pylabtools.py:152: UserWarning: Glyph 44553 (\\N{HANGUL SYLLABLE GEUB}) missing from current font.\n",
      "  fig.canvas.print_figure(bytes_io, **kw)\n"
     ]
    },
    {
     "data": {
      "image/png": "[encoded data removed]",
      "text/plain": [
       "<Figure size 1000x600 with 1 Axes>"
      ]
     },
     "metadata": {},
     "output_type": "display_data"
    }
   ],
   "source": [
    "### 주택소유상태와 고객의 대출등급과의 관계 분석\n",
    "\n",
    "sns.countplot(data=df_train, x='주택소유상태', hue='대출등급')\n",
    "plt.rcParams['figure.figsize'] = [10,6]\n",
    "plt.show()\n"
   ]
  },
  {
   "cell_type": "code",
   "execution_count": null,
   "metadata": {},
   "outputs": [],
   "source": []
  },
  {
   "cell_type": "code",
   "execution_count": null,
   "metadata": {},
   "outputs": [],
   "source": []
  },
  {
   "cell_type": "code",
   "execution_count": 72,
   "metadata": {},
   "outputs": [
    {
     "name": "stdout",
     "output_type": "stream",
     "text": [
      "                ID      대출금액        대출기간       근로기간    주택소유상태       연간소득  \\\n",
      "0      TRAIN_00000  12480000   36 months    6 years      RENT   72000000   \n",
      "1      TRAIN_00001  14400000   60 months  10+ years  MORTGAGE  130800000   \n",
      "2      TRAIN_00002  12000000   36 months    5 years  MORTGAGE   96000000   \n",
      "3      TRAIN_00003  14400000   36 months    8 years  MORTGAGE  132000000   \n",
      "4      TRAIN_00004  18000000   60 months    Unknown      RENT   71736000   \n",
      "...            ...       ...         ...        ...       ...        ...   \n",
      "96289  TRAIN_96289  14400000   36 months  10+ years  MORTGAGE  210000000   \n",
      "96290  TRAIN_96290  28800000   60 months  10+ years  MORTGAGE  132000000   \n",
      "96291  TRAIN_96291  14400000   36 months     1 year  MORTGAGE   84000000   \n",
      "96292  TRAIN_96292  15600000   36 months    5 years  MORTGAGE   66330000   \n",
      "96293  TRAIN_96293   8640000   36 months  10+ years      RENT   50400000   \n",
      "\n",
      "       부채_대비_소득_비율  총계좌수   대출목적  최근_2년간_연체_횟수    총상환원금     총상환이자  총연체금액  \\\n",
      "0            18.90    15  부채 통합             0        0       0.0    0.0   \n",
      "1            22.33    21  주택 개선             0   373572  234060.0    0.0   \n",
      "2             8.60    14  부채 통합             0   928644  151944.0    0.0   \n",
      "3            15.09    15  부채 통합             0   325824  153108.0    0.0   \n",
      "4            25.39    19  주요 구매             0   228540  148956.0    0.0   \n",
      "...            ...   ...    ...           ...      ...       ...    ...   \n",
      "96289         9.33    33  신용 카드             0   974580  492168.0    0.0   \n",
      "96290         5.16    25  주택 개선             0   583728  855084.0    0.0   \n",
      "96291        11.24    22  신용 카드             0  1489128  241236.0    0.0   \n",
      "96292        17.30    21  부채 통합             2  1378368  818076.0    0.0   \n",
      "96293        11.80    14  신용 카드             0   596148  274956.0    0.0   \n",
      "\n",
      "       연체계좌수 대출등급  \n",
      "0        0.0    C  \n",
      "1        0.0    B  \n",
      "2        0.0    A  \n",
      "3        0.0    C  \n",
      "4        0.0    B  \n",
      "...      ...  ...  \n",
      "96289    0.0    C  \n",
      "96290    0.0    E  \n",
      "96291    0.0    A  \n",
      "96292    0.0    D  \n",
      "96293    0.0    C  \n",
      "\n",
      "[96294 rows x 15 columns]\n",
      "36\n",
      "                ID      대출금액 대출기간       근로기간    주택소유상태       연간소득  \\\n",
      "0      TRAIN_00000  12480000   36    6 years      RENT   72000000   \n",
      "1      TRAIN_00001  14400000   60  10+ years  MORTGAGE  130800000   \n",
      "2      TRAIN_00002  12000000   36    5 years  MORTGAGE   96000000   \n",
      "3      TRAIN_00003  14400000   36    8 years  MORTGAGE  132000000   \n",
      "4      TRAIN_00004  18000000   60    Unknown      RENT   71736000   \n",
      "...            ...       ...  ...        ...       ...        ...   \n",
      "96289  TRAIN_96289  14400000   36  10+ years  MORTGAGE  210000000   \n",
      "96290  TRAIN_96290  28800000   60  10+ years  MORTGAGE  132000000   \n",
      "96291  TRAIN_96291  14400000   36     1 year  MORTGAGE   84000000   \n",
      "96292  TRAIN_96292  15600000   36    5 years  MORTGAGE   66330000   \n",
      "96293  TRAIN_96293   8640000   36  10+ years      RENT   50400000   \n",
      "\n",
      "       부채_대비_소득_비율  총계좌수   대출목적  최근_2년간_연체_횟수    총상환원금     총상환이자  총연체금액  연체계좌수  \n",
      "0            18.90    15  부채 통합             0        0       0.0    0.0    0.0  \n",
      "1            22.33    21  주택 개선             0   373572  234060.0    0.0    0.0  \n",
      "2             8.60    14  부채 통합             0   928644  151944.0    0.0    0.0  \n",
      "3            15.09    15  부채 통합             0   325824  153108.0    0.0    0.0  \n",
      "4            25.39    19  주요 구매             0   228540  148956.0    0.0    0.0  \n",
      "...            ...   ...    ...           ...      ...       ...    ...    ...  \n",
      "96289         9.33    33  신용 카드             0   974580  492168.0    0.0    0.0  \n",
      "96290         5.16    25  주택 개선             0   583728  855084.0    0.0    0.0  \n",
      "96291        11.24    22  신용 카드             0  1489128  241236.0    0.0    0.0  \n",
      "96292        17.30    21  부채 통합             2  1378368  818076.0    0.0    0.0  \n",
      "96293        11.80    14  신용 카드             0   596148  274956.0    0.0    0.0  \n",
      "\n",
      "[96294 rows x 14 columns]\n"
     ]
    }
   ],
   "source": [
    "print(df_train)\n",
    "\n",
    "df_train.isnull().sum()\n",
    "\n",
    "## 대출기간 컬럼\n",
    "\n",
    "print('36 months'.split()[0])\n",
    "\n",
    "cleaned_df.loc[:,'대출기간'] = cleaned_df.loc[:,'대출기간'].apply(lambda x: x.split()[0])\n",
    "print(cleaned_df)"
   ]
  },
  {
   "cell_type": "code",
   "execution_count": 75,
   "metadata": {},
   "outputs": [
    {
     "name": "stdout",
     "output_type": "stream",
     "text": [
      "6\n",
      "********************************************************************************\n",
      "10\n"
     ]
    }
   ],
   "source": [
    "## 근로기간 컬럼\n",
    "\n",
    "print('6 years'.split()[0])\n",
    "\n",
    "cleaned_df.loc[:,'근로기간'] = cleaned_df.loc[:, '근로기간'].apply(lambda x: x.split()[0])\n",
    "\n",
    "print('*'*80)\n",
    "\n",
    "print('10 +years'.split()[0])\n",
    "\n",
    "cleaned_df.loc[:,'근로기간'] = cleaned_df.loc[:,'근로기간'].apply(lambda x:x.split()[0])\n",
    "\n",
    "print('*'*80)"
   ]
  }
 ],
 "metadata": {
  "kernelspec": {
   "display_name": "NvulyTarget",
   "language": "python",
   "name": "conda"
  },
  "language_info": {
   "codemirror_mode": {
    "name": "ipython",
    "version": 3
   },
   "file_extension": ".py",
   "mimetype": "text/x-python",
   "name": "python",
   "nbconvert_exporter": "python",
   "pygments_lexer": "ipython3",
   "version": "3.11.5"
  }
 },
 "nbformat": 4,
 "nbformat_minor": 2
}
