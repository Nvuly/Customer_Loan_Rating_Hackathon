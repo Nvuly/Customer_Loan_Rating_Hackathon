{
 "cells": [
  {
   "cell_type": "markdown",
   "metadata": {},
   "source": [
    "# Objectives \n",
    "- 고객의 대출 등급에 따른 분류\n",
    "- EDA(탐색적데이터탐색) 이후 isnull().sum(), 단위제거 및 자료형 변환 \n",
    "- pd.concat, Feature Engineering\n",
    "\n",
    "train.csv [파일] \n",
    "고객 관련 금융 정보\n",
    "ID : 대출 고객의 고유 ID\n",
    "대출등급 : 예측 목표\n",
    "\n",
    "\n",
    "test.csv [파일]\n",
    "고객 관련 금융 정보\n",
    "ID : 대출 고객의 고유 ID\n",
    "대출등급이 존재하지 않음\n",
    "\n",
    "\n",
    "sample_submission.csv [파일] - 제출 양식\n",
    "ID : 대출 고객의 고유 ID\n",
    "대출등급 : test.csv에서 제공된 고객의 대출등급을 예측하여 기입\n"
   ]
  },
  {
   "cell_type": "markdown",
   "metadata": {},
   "source": [
    "## Import Functions"
   ]
  },
  {
   "cell_type": "code",
   "execution_count": 24,
   "metadata": {},
   "outputs": [],
   "source": [
    "import pandas as pd\n",
    "import numpy as np\n",
    "from bs4 import BeautifulSoup\n",
    "import requests\n",
    "import random\n",
    "import os\n",
    "import matplotlib.pyplot as plt\n",
    "import seaborn as sns"
   ]
  },
  {
   "cell_type": "code",
   "execution_count": 25,
   "metadata": {},
   "outputs": [],
   "source": [
    "\n",
    "from matplotlib import font_manager, rc\n",
    "\n",
    "font_name = font_manager.FontProperties(fname=\"c:/Windows/Fonts/malgun.ttf\").get_name()\n",
    "rc('font', family=font_name)\n"
   ]
  },
  {
   "cell_type": "markdown",
   "metadata": {},
   "source": [
    "## Load Train Data"
   ]
  },
  {
   "cell_type": "code",
   "execution_count": 26,
   "metadata": {},
   "outputs": [
    {
     "name": "stdout",
     "output_type": "stream",
     "text": [
      "학습용 데이터 : \n",
      "                ID      대출금액        대출기간       근로기간    주택소유상태       연간소득  \\\n",
      "0      TRAIN_00000  12480000   36 months    6 years      RENT   72000000   \n",
      "1      TRAIN_00001  14400000   60 months  10+ years  MORTGAGE  130800000   \n",
      "2      TRAIN_00002  12000000   36 months    5 years  MORTGAGE   96000000   \n",
      "3      TRAIN_00003  14400000   36 months    8 years  MORTGAGE  132000000   \n",
      "4      TRAIN_00004  18000000   60 months    Unknown      RENT   71736000   \n",
      "...            ...       ...         ...        ...       ...        ...   \n",
      "96289  TRAIN_96289  14400000   36 months  10+ years  MORTGAGE  210000000   \n",
      "96290  TRAIN_96290  28800000   60 months  10+ years  MORTGAGE  132000000   \n",
      "96291  TRAIN_96291  14400000   36 months     1 year  MORTGAGE   84000000   \n",
      "96292  TRAIN_96292  15600000   36 months    5 years  MORTGAGE   66330000   \n",
      "96293  TRAIN_96293   8640000   36 months  10+ years      RENT   50400000   \n",
      "\n",
      "       부채_대비_소득_비율  총계좌수   대출목적  최근_2년간_연체_횟수    총상환원금     총상환이자  총연체금액  \\\n",
      "0            18.90    15  부채 통합             0        0       0.0    0.0   \n",
      "1            22.33    21  주택 개선             0   373572  234060.0    0.0   \n",
      "2             8.60    14  부채 통합             0   928644  151944.0    0.0   \n",
      "3            15.09    15  부채 통합             0   325824  153108.0    0.0   \n",
      "4            25.39    19  주요 구매             0   228540  148956.0    0.0   \n",
      "...            ...   ...    ...           ...      ...       ...    ...   \n",
      "96289         9.33    33  신용 카드             0   974580  492168.0    0.0   \n",
      "96290         5.16    25  주택 개선             0   583728  855084.0    0.0   \n",
      "96291        11.24    22  신용 카드             0  1489128  241236.0    0.0   \n",
      "96292        17.30    21  부채 통합             2  1378368  818076.0    0.0   \n",
      "96293        11.80    14  신용 카드             0   596148  274956.0    0.0   \n",
      "\n",
      "       연체계좌수 대출등급  \n",
      "0        0.0    C  \n",
      "1        0.0    B  \n",
      "2        0.0    A  \n",
      "3        0.0    C  \n",
      "4        0.0    B  \n",
      "...      ...  ...  \n",
      "96289    0.0    C  \n",
      "96290    0.0    E  \n",
      "96291    0.0    A  \n",
      "96292    0.0    D  \n",
      "96293    0.0    C  \n",
      "\n",
      "[96294 rows x 15 columns]\n"
     ]
    },
    {
     "data": {
      "text/plain": [
       "ID              0\n",
       "대출금액            0\n",
       "대출기간            0\n",
       "근로기간            0\n",
       "주택소유상태          0\n",
       "연간소득            0\n",
       "부채_대비_소득_비율     0\n",
       "총계좌수            0\n",
       "대출목적            0\n",
       "최근_2년간_연체_횟수    0\n",
       "총상환원금           0\n",
       "총상환이자           0\n",
       "총연체금액           0\n",
       "연체계좌수           0\n",
       "대출등급            0\n",
       "dtype: int64"
      ]
     },
     "execution_count": 26,
     "metadata": {},
     "output_type": "execute_result"
    }
   ],
   "source": [
    "# 학습용 데이터 불러오기\n",
    "\n",
    "train_path = 'D:\\Code\\[중]고객 대출 등급 분류 해커톤/train.csv'\n",
    "\n",
    "df_train = pd.read_csv(train_path)\n",
    "\n",
    "print(f'학습용 데이터 : \\n{df_train}')\n",
    "\n",
    "df_train.isnull().sum()\n",
    "\n",
    "# 누락 데이터 없음"
   ]
  },
  {
   "cell_type": "code",
   "execution_count": 27,
   "metadata": {},
   "outputs": [
    {
     "name": "stdout",
     "output_type": "stream",
     "text": [
      "<class 'pandas.core.frame.DataFrame'>\n",
      "RangeIndex: 96294 entries, 0 to 96293\n",
      "Data columns (total 15 columns):\n",
      " #   Column        Non-Null Count  Dtype  \n",
      "---  ------        --------------  -----  \n",
      " 0   ID            96294 non-null  object \n",
      " 1   대출금액          96294 non-null  int64  \n",
      " 2   대출기간          96294 non-null  object \n",
      " 3   근로기간          96294 non-null  object \n",
      " 4   주택소유상태        96294 non-null  object \n",
      " 5   연간소득          96294 non-null  int64  \n",
      " 6   부채_대비_소득_비율   96294 non-null  float64\n",
      " 7   총계좌수          96294 non-null  int64  \n",
      " 8   대출목적          96294 non-null  object \n",
      " 9   최근_2년간_연체_횟수  96294 non-null  int64  \n",
      " 10  총상환원금         96294 non-null  int64  \n",
      " 11  총상환이자         96294 non-null  float64\n",
      " 12  총연체금액         96294 non-null  float64\n",
      " 13  연체계좌수         96294 non-null  float64\n",
      " 14  대출등급          96294 non-null  object \n",
      "dtypes: float64(4), int64(5), object(6)\n",
      "memory usage: 11.0+ MB\n"
     ]
    }
   ],
   "source": [
    "df_train.info()"
   ]
  },
  {
   "cell_type": "code",
   "execution_count": 28,
   "metadata": {},
   "outputs": [
    {
     "name": "stdout",
     "output_type": "stream",
     "text": [
      "********************************************************************************\n",
      "0        C\n",
      "1        B\n",
      "2        A\n",
      "3        C\n",
      "4        B\n",
      "        ..\n",
      "96289    C\n",
      "96290    E\n",
      "96291    A\n",
      "96292    D\n",
      "96293    C\n",
      "Name: 대출등급, Length: 96294, dtype: object\n",
      "********************************************************************************\n",
      "                ID      대출금액        대출기간       근로기간    주택소유상태       연간소득  \\\n",
      "0      TRAIN_00000  12480000   36 months    6 years      RENT   72000000   \n",
      "1      TRAIN_00001  14400000   60 months  10+ years  MORTGAGE  130800000   \n",
      "2      TRAIN_00002  12000000   36 months    5 years  MORTGAGE   96000000   \n",
      "3      TRAIN_00003  14400000   36 months    8 years  MORTGAGE  132000000   \n",
      "4      TRAIN_00004  18000000   60 months    Unknown      RENT   71736000   \n",
      "...            ...       ...         ...        ...       ...        ...   \n",
      "96289  TRAIN_96289  14400000   36 months  10+ years  MORTGAGE  210000000   \n",
      "96290  TRAIN_96290  28800000   60 months  10+ years  MORTGAGE  132000000   \n",
      "96291  TRAIN_96291  14400000   36 months     1 year  MORTGAGE   84000000   \n",
      "96292  TRAIN_96292  15600000   36 months    5 years  MORTGAGE   66330000   \n",
      "96293  TRAIN_96293   8640000   36 months  10+ years      RENT   50400000   \n",
      "\n",
      "       부채_대비_소득_비율  총계좌수   대출목적  최근_2년간_연체_횟수    총상환원금     총상환이자  총연체금액  연체계좌수  \n",
      "0            18.90    15  부채 통합             0        0       0.0    0.0    0.0  \n",
      "1            22.33    21  주택 개선             0   373572  234060.0    0.0    0.0  \n",
      "2             8.60    14  부채 통합             0   928644  151944.0    0.0    0.0  \n",
      "3            15.09    15  부채 통합             0   325824  153108.0    0.0    0.0  \n",
      "4            25.39    19  주요 구매             0   228540  148956.0    0.0    0.0  \n",
      "...            ...   ...    ...           ...      ...       ...    ...    ...  \n",
      "96289         9.33    33  신용 카드             0   974580  492168.0    0.0    0.0  \n",
      "96290         5.16    25  주택 개선             0   583728  855084.0    0.0    0.0  \n",
      "96291        11.24    22  신용 카드             0  1489128  241236.0    0.0    0.0  \n",
      "96292        17.30    21  부채 통합             2  1378368  818076.0    0.0    0.0  \n",
      "96293        11.80    14  신용 카드             0   596148  274956.0    0.0    0.0  \n",
      "\n",
      "[96294 rows x 14 columns]\n",
      "********************************************************************************\n"
     ]
    }
   ],
   "source": [
    "# 정답, 레이블 컬럼 : 대출등급\n",
    "label = df_train.loc[:,'대출등급']\n",
    "\n",
    "cleaned_df=df_train.drop(columns=['대출등급'])\n",
    "\n",
    "print('*'*80)\n",
    "\n",
    "print(label)\n",
    "\n",
    "print('*'*80)\n",
    "\n",
    "print(cleaned_df)\n",
    "\n",
    "print('*'*80)\n",
    "\n"
   ]
  },
  {
   "cell_type": "code",
   "execution_count": 29,
   "metadata": {},
   "outputs": [
    {
     "data": {
      "text/plain": [
       "대출등급\n",
       "B    28817\n",
       "C    27623\n",
       "A    16772\n",
       "D    13354\n",
       "E     7354\n",
       "F     1954\n",
       "G      420\n",
       "Name: count, dtype: int64"
      ]
     },
     "execution_count": 29,
     "metadata": {},
     "output_type": "execute_result"
    }
   ],
   "source": [
    "label.value_counts()"
   ]
  },
  {
   "cell_type": "code",
   "execution_count": 30,
   "metadata": {},
   "outputs": [
    {
     "name": "stdout",
     "output_type": "stream",
     "text": [
      "                ID      대출금액        대출기간       근로기간    주택소유상태       연간소득  \\\n",
      "0      TRAIN_00000  12480000   36 months    6 years      RENT   72000000   \n",
      "1      TRAIN_00001  14400000   60 months  10+ years  MORTGAGE  130800000   \n",
      "2      TRAIN_00002  12000000   36 months    5 years  MORTGAGE   96000000   \n",
      "3      TRAIN_00003  14400000   36 months    8 years  MORTGAGE  132000000   \n",
      "4      TRAIN_00004  18000000   60 months    Unknown      RENT   71736000   \n",
      "...            ...       ...         ...        ...       ...        ...   \n",
      "96289  TRAIN_96289  14400000   36 months  10+ years  MORTGAGE  210000000   \n",
      "96290  TRAIN_96290  28800000   60 months  10+ years  MORTGAGE  132000000   \n",
      "96291  TRAIN_96291  14400000   36 months     1 year  MORTGAGE   84000000   \n",
      "96292  TRAIN_96292  15600000   36 months    5 years  MORTGAGE   66330000   \n",
      "96293  TRAIN_96293   8640000   36 months  10+ years      RENT   50400000   \n",
      "\n",
      "       부채_대비_소득_비율  총계좌수   대출목적  최근_2년간_연체_횟수    총상환원금     총상환이자  총연체금액  \\\n",
      "0            18.90    15  부채 통합             0        0       0.0    0.0   \n",
      "1            22.33    21  주택 개선             0   373572  234060.0    0.0   \n",
      "2             8.60    14  부채 통합             0   928644  151944.0    0.0   \n",
      "3            15.09    15  부채 통합             0   325824  153108.0    0.0   \n",
      "4            25.39    19  주요 구매             0   228540  148956.0    0.0   \n",
      "...            ...   ...    ...           ...      ...       ...    ...   \n",
      "96289         9.33    33  신용 카드             0   974580  492168.0    0.0   \n",
      "96290         5.16    25  주택 개선             0   583728  855084.0    0.0   \n",
      "96291        11.24    22  신용 카드             0  1489128  241236.0    0.0   \n",
      "96292        17.30    21  부채 통합             2  1378368  818076.0    0.0   \n",
      "96293        11.80    14  신용 카드             0   596148  274956.0    0.0   \n",
      "\n",
      "       연체계좌수 대출등급  \n",
      "0        0.0    C  \n",
      "1        0.0    B  \n",
      "2        0.0    A  \n",
      "3        0.0    C  \n",
      "4        0.0    B  \n",
      "...      ...  ...  \n",
      "96289    0.0    C  \n",
      "96290    0.0    E  \n",
      "96291    0.0    A  \n",
      "96292    0.0    D  \n",
      "96293    0.0    C  \n",
      "\n",
      "[96294 rows x 15 columns]\n"
     ]
    }
   ],
   "source": [
    "print(df_train)"
   ]
  },
  {
   "cell_type": "markdown",
   "metadata": {},
   "source": [
    "## Outlier 이상치 확인 및 제거"
   ]
  },
  {
   "cell_type": "code",
   "execution_count": 46,
   "metadata": {},
   "outputs": [
    {
     "data": {
      "image/png": "[encoded data removed]",
      "text/plain": [
       "<Figure size 1000x600 with 1 Axes>"
      ]
     },
     "metadata": {},
     "output_type": "display_data"
    },
    {
     "name": "stdout",
     "output_type": "stream",
     "text": [
      "********************************************************************************\n"
     ]
    }
   ],
   "source": [
    "cleaned_df.loc[:, ['ID', '대출금액', '대출기간', '근로기간', '연간소득', '부채_대비_소득_비율', '총계좌수', '대출목적', '최근_2년간_연체_횟수', '총상환원금', '총상환이자','총연체금액']].plot(kind='box', rot=45)\n",
    "plt.show()\n",
    "\n",
    "print('*'*80)\n",
    "\n",
    "#cleaned_df.loc[:,['주택소유상태','ID','대출기간','근로기간','대출목적',].plot(kind='box', rot=45) # no numeric\n",
    "\n",
    "\n",
    "# 대출금액의 이상치는 존재 x\n",
    "\n"
   ]
  },
  {
   "cell_type": "code",
   "execution_count": 53,
   "metadata": {},
   "outputs": [
    {
     "name": "stdout",
     "output_type": "stream",
     "text": [
      "1사분위값 : \n",
      "57600000.0\n",
      "********************************************************************************\n",
      "3사분위값 : \n",
      "112800000.0\n",
      "********************************************************************************\n",
      "연간 소득 컬럼의 첫번째 iqr = 55200000.0\n",
      "********************************************************************************\n",
      "연간 소득 컬럼의 첫번째 정상범위의 최솟값 : -25200000.0\n",
      "연간 소득 컬럼의 첫번째 정상범위의 최댓값 : 195600000.0\n",
      "********************************************************************************\n",
      "********************************************************************************\n",
      "연간 소득 컬럼의 첫번째 이상치 : \n",
      "                ID      대출금액 대출기간 근로기간    주택소유상태       연간소득  부채_대비_소득_비율  \\\n",
      "34     TRAIN_00034  14550000   36    4       OWN  222000000         2.13   \n",
      "50     TRAIN_00050  14400000   36    <  MORTGAGE  198000000        10.51   \n",
      "78     TRAIN_00078  33600000   36  10+  MORTGAGE  259200000         4.12   \n",
      "114    TRAIN_00114  33600000   36    5  MORTGAGE  420000000         2.53   \n",
      "132    TRAIN_00132  12000000   36    2      RENT  384000000         6.94   \n",
      "...            ...       ...  ...  ...       ...        ...          ...   \n",
      "96263  TRAIN_96263  39450000   36  10+  MORTGAGE  210000000        26.30   \n",
      "96268  TRAIN_96268   9000000   36    2  MORTGAGE  231000000         5.31   \n",
      "96273  TRAIN_96273  33600000   36    2  MORTGAGE  222000000        17.43   \n",
      "96286  TRAIN_96286  42000000   60    2  MORTGAGE  244800000        18.80   \n",
      "96289  TRAIN_96289  14400000   36  10+  MORTGAGE  210000000         9.33   \n",
      "\n",
      "       총계좌수   대출목적  최근_2년간_연체_횟수    총상환원금      총상환이자  총연체금액  연체계좌수  \n",
      "34       31  부채 통합             6   655620   320448.0    0.0    0.0  \n",
      "50       46  신용 카드             1   369816    53196.0    0.0    0.0  \n",
      "78       38  부채 통합             0  1706676   327540.0    0.0    0.0  \n",
      "114      26  신용 카드             0  1666020   421656.0    0.0    0.0  \n",
      "132      41  신용 카드             1        0        0.0    0.0    0.0  \n",
      "...     ...    ...           ...      ...        ...    ...    ...  \n",
      "96263    39  주택 개선             0  1748928   951384.0    0.0    0.0  \n",
      "96268    15  신용 카드             0   659448   192144.0    0.0    0.0  \n",
      "96273    49  신용 카드             0  1706676   333360.0    0.0    0.0  \n",
      "96286    51  부채 통합             0  1902036  2075832.0    0.0    0.0  \n",
      "96289    33  신용 카드             0   974580   492168.0    0.0    0.0  \n",
      "\n",
      "[4347 rows x 14 columns]\n",
      "********************************************************************************\n",
      "최종 결과 : \n",
      "0         72000000\n",
      "1        130800000\n",
      "2         96000000\n",
      "3        132000000\n",
      "4         71736000\n",
      "           ...    \n",
      "96288     50400000\n",
      "96290    132000000\n",
      "96291     84000000\n",
      "96292     66330000\n",
      "96293     50400000\n",
      "Name: 연간소득, Length: 91947, dtype: int64\n",
      "********************************************************************************\n"
     ]
    }
   ],
   "source": [
    "# 연간소득컬럼의 첫번째 이상치 확인 및 제거\n",
    "\n",
    "'''\n",
    "1. IQR = Q3- Q1\n",
    "2. 정상 범위의 취소 : Q1 - (IQR*1.5)\n",
    "3. 정상 범위의 최대 : Q3 + (IQR*1.5)\n",
    "'''\n",
    "\n",
    "q1 = cleaned_df.loc[:,'연간소득'].quantile(q=0.25)\n",
    "\n",
    "q3 = cleaned_df.loc[:,'연간소득'].quantile(q=0.75)\n",
    "\n",
    "iqr = q3 - q1\n",
    "\n",
    "print(f'1사분위값 : \\n{q1}')\n",
    "print('*'*80)\n",
    "print(f'3사분위값 : \\n{q3}')\n",
    "print('*'*80)\n",
    "\n",
    "print(f'연간 소득 컬럼의 첫번째 iqr = {iqr}')\n",
    "\n",
    "print('*'*80)\n",
    "\n",
    "# 정상 범위의 최솟값\n",
    "min = q1 - ( iqr * 1.5)\n",
    "print(f'연간 소득 컬럼의 첫번째 정상범위의 최솟값 : {min}')\n",
    "\n",
    "# 정상 범위의 최댓값\n",
    "max = q3 + ( iqr * 1.5)\n",
    "print(f'연간 소득 컬럼의 첫번째 정상범위의 최댓값 : {max}')\n",
    "\n",
    "print('*'*80)\n",
    "\n",
    "condition = (cleaned_df.loc[:,'연간소득']<min) | (cleaned_df.loc[:,'연간소득']>max)\n",
    "\n",
    "print('*'*80)\n",
    "\n",
    "outlier = cleaned_df.loc[condition]\n",
    "\n",
    "print(f'연간 소득 컬럼의 첫번째 이상치 : \\n{outlier}')\n",
    "\n",
    "outlier_index = cleaned_df.loc[condition].index\n",
    "\n",
    "print('*'*80)\n",
    "\n",
    "# 이후에 drop()으로 이상치 제거\n",
    "# df.col.drop(index=[이상치 행의 인덱스])\n",
    "cleaned_year = cleaned_df.loc[:,'연간소득'].drop(index=outlier_index)\n",
    "print(f'최종 결과 : \\n{cleaned_year}')\n",
    "\n",
    "print('*'*80)\n",
    "\n",
    "\n"
   ]
  },
  {
   "cell_type": "code",
   "execution_count": 74,
   "metadata": {},
   "outputs": [
    {
     "data": {
      "image/png": "[encoded data removed]",
      "text/plain": [
       "<Figure size 1000x600 with 1 Axes>"
      ]
     },
     "metadata": {},
     "output_type": "display_data"
    },
    {
     "name": "stdout",
     "output_type": "stream",
     "text": [
      "1사분위값 : \n",
      "55200000.0\n",
      "********************************************************************************\n",
      "3사분위값 : \n",
      "106800000.0\n",
      "********************************************************************************\n",
      "연간 소득 컬럼의 첫번째 iqr = 51600000.0\n",
      "********************************************************************************\n",
      "연간 소득 컬럼의 첫번째 정상범위의 최솟값 : -22200000.0\n",
      "연간 소득 컬럼의 첫번째 정상범위의 최댓값 : 184200000.0\n",
      "********************************************************************************\n",
      "********************************************************************************\n",
      "연간 소득 컬럼의 첫번째 이상치 : \n",
      "134      184800000\n",
      "312      186000000\n",
      "323      186000000\n",
      "550      184800000\n",
      "617      186000000\n",
      "           ...    \n",
      "95755    192000000\n",
      "95804    192000000\n",
      "96004    186000000\n",
      "96076    192000000\n",
      "96223    186000000\n",
      "Name: 연간소득, Length: 856, dtype: int64\n",
      "********************************************************************************\n",
      "최종 결과 : \n",
      "0         72000000\n",
      "1        130800000\n",
      "2         96000000\n",
      "3        132000000\n",
      "4         71736000\n",
      "           ...    \n",
      "96288     50400000\n",
      "96290    132000000\n",
      "96291     84000000\n",
      "96292     66330000\n",
      "96293     50400000\n",
      "Name: 연간소득, Length: 91091, dtype: int64\n",
      "********************************************************************************\n"
     ]
    }
   ],
   "source": [
    "### 연간 소득 컬럼의 두번째 이상치 판단\n",
    "\n",
    "# 연간소득컬럼의 두번째 이상치 확인 및 제거\n",
    "\n",
    "'''\n",
    "1. IQR = Q3- Q1\n",
    "2. 정상 범위의 취소 : Q1 - (IQR*1.5)\n",
    "3. 정상 범위의 최대 : Q3 + (IQR*1.5)\n",
    "'''\n",
    "\n",
    "cleaned_year.plot(kind='box', rot=45)\n",
    "plt.show()\n",
    "\n",
    "# 이상치 존재..\n",
    "\n",
    "q1 = cleaned_year.quantile(q=0.25)\n",
    "\n",
    "q3 = cleaned_year.quantile(q=0.75)\n",
    "\n",
    "iqr = q3 - q1\n",
    "\n",
    "print(f'1사분위값 : \\n{q1}')\n",
    "print('*'*80)\n",
    "print(f'3사분위값 : \\n{q3}')\n",
    "print('*'*80)\n",
    "\n",
    "print(f'연간 소득 컬럼의 첫번째 iqr = {iqr}')\n",
    "\n",
    "print('*'*80)\n",
    "\n",
    "# 정상 범위의 최솟값\n",
    "min = q1 - ( iqr * 1.5)\n",
    "print(f'연간 소득 컬럼의 첫번째 정상범위의 최솟값 : {min}')\n",
    "\n",
    "# 정상 범위의 최댓값\n",
    "max = q3 + ( iqr * 1.5)\n",
    "print(f'연간 소득 컬럼의 첫번째 정상범위의 최댓값 : {max}')\n",
    "\n",
    "print('*'*80)\n",
    "\n",
    "condition = (cleaned_year<min) | (cleaned_year>max)\n",
    "\n",
    "print('*'*80)\n",
    "\n",
    "outlier = cleaned_year.loc[condition]\n",
    "\n",
    "print(f'연간 소득 컬럼의 첫번째 이상치 : \\n{outlier}')\n",
    "\n",
    "outlier_index = cleaned_year.loc[condition].index\n",
    "\n",
    "print('*'*80)\n",
    "\n",
    "# 이후에 drop()으로 이상치 제거\n",
    "# df.col.drop(index=[이상치 행의 인덱스])\n",
    "cleaned_year2 = cleaned_year.drop(index=outlier_index)\n",
    "print(f'최종 결과 : \\n{cleaned_year2}')\n",
    "\n",
    "print('*'*80)\n",
    "\n",
    "\n"
   ]
  },
  {
   "cell_type": "code",
   "execution_count": 76,
   "metadata": {},
   "outputs": [
    {
     "data": {
      "image/png": "[encoded data removed]",
      "text/plain": [
       "<Figure size 1000x600 with 1 Axes>"
      ]
     },
     "metadata": {},
     "output_type": "display_data"
    },
    {
     "name": "stdout",
     "output_type": "stream",
     "text": [
      "1사분위값 : \n",
      "55200000.0\n",
      "********************************************************************************\n",
      "3사분위값 : \n",
      "105600000.0\n",
      "********************************************************************************\n",
      "연간 소득 컬럼의 첫번째 iqr = 50400000.0\n",
      "********************************************************************************\n",
      "연간 소득 컬럼의 첫번째 정상범위의 최솟값 : -20400000.0\n",
      "연간 소득 컬럼의 첫번째 정상범위의 최댓값 : 181200000.0\n",
      "********************************************************************************\n",
      "********************************************************************************\n",
      "연간 소득 컬럼의 첫번째 이상치 : \n",
      "637      182880000\n",
      "743      182400000\n",
      "893      182400000\n",
      "950      183600000\n",
      "3096     183960000\n",
      "           ...    \n",
      "94194    183600000\n",
      "94878    182400000\n",
      "95239    183600000\n",
      "95695    182940000\n",
      "95857    184178400\n",
      "Name: 연간소득, Length: 106, dtype: int64\n",
      "********************************************************************************\n",
      "최종 결과 : \n",
      "0         72000000\n",
      "1        130800000\n",
      "2         96000000\n",
      "3        132000000\n",
      "4         71736000\n",
      "           ...    \n",
      "96288     50400000\n",
      "96290    132000000\n",
      "96291     84000000\n",
      "96292     66330000\n",
      "96293     50400000\n",
      "Name: 연간소득, Length: 90985, dtype: int64\n",
      "********************************************************************************\n"
     ]
    }
   ],
   "source": [
    "### 연간 소득 컬럼의 세번째 이상치 판단\n",
    "\n",
    "# 연간소득컬럼의 세번째 이상치 확인 및 제거\n",
    "\n",
    "'''\n",
    "1. IQR = Q3- Q1\n",
    "2. 정상 범위의 취소 : Q1 - (IQR*1.5)\n",
    "3. 정상 범위의 최대 : Q3 + (IQR*1.5)\n",
    "'''\n",
    "\n",
    "cleaned_year2.plot(kind='box', rot=45)\n",
    "plt.show()\n",
    "\n",
    "# 이상치 존재..\n",
    "\n",
    "q1 = cleaned_year2.quantile(q=0.25)\n",
    "\n",
    "q3 = cleaned_year2.quantile(q=0.75)\n",
    "\n",
    "iqr = q3 - q1\n",
    "\n",
    "print(f'1사분위값 : \\n{q1}')\n",
    "print('*'*80)\n",
    "print(f'3사분위값 : \\n{q3}')\n",
    "print('*'*80)\n",
    "\n",
    "print(f'연간 소득 컬럼의 첫번째 iqr = {iqr}')\n",
    "\n",
    "print('*'*80)\n",
    "\n",
    "# 정상 범위의 최솟값\n",
    "min = q1 - ( iqr * 1.5)\n",
    "print(f'연간 소득 컬럼의 첫번째 정상범위의 최솟값 : {min}')\n",
    "\n",
    "# 정상 범위의 최댓값\n",
    "max = q3 + ( iqr * 1.5)\n",
    "print(f'연간 소득 컬럼의 첫번째 정상범위의 최댓값 : {max}')\n",
    "\n",
    "print('*'*80)\n",
    "\n",
    "condition = (cleaned_year2<min) | (cleaned_year2>max)\n",
    "\n",
    "print('*'*80)\n",
    "\n",
    "outlier = cleaned_year2.loc[condition]\n",
    "\n",
    "print(f'연간 소득 컬럼의 첫번째 이상치 : \\n{outlier}')\n",
    "\n",
    "outlier_index = cleaned_year2.loc[condition].index\n",
    "\n",
    "print('*'*80)\n",
    "\n",
    "# 이후에 drop()으로 이상치 제거\n",
    "# df.col.drop(index=[이상치 행의 인덱스])\n",
    "cleaned_year3 = cleaned_year2.drop(index=outlier_index)\n",
    "print(f'최종 결과 : \\n{cleaned_year3}')\n",
    "\n",
    "print('*'*80)\n",
    "\n",
    "\n"
   ]
  },
  {
   "cell_type": "code",
   "execution_count": 77,
   "metadata": {},
   "outputs": [
    {
     "data": {
      "image/png": "[encoded data removed]",
      "text/plain": [
       "<Figure size 1000x600 with 1 Axes>"
      ]
     },
     "metadata": {},
     "output_type": "display_data"
    },
    {
     "name": "stdout",
     "output_type": "stream",
     "text": [
      "1사분위값 : \n",
      "55200000.0\n",
      "********************************************************************************\n",
      "3사분위값 : \n",
      "105000000.0\n",
      "********************************************************************************\n",
      "연간 소득 컬럼의 첫번째 iqr = 49800000.0\n",
      "********************************************************************************\n",
      "연간 소득 컬럼의 첫번째 정상범위의 최솟값 : -19500000.0\n",
      "연간 소득 컬럼의 첫번째 정상범위의 최댓값 : 179700000.0\n",
      "********************************************************************************\n",
      "********************************************************************************\n",
      "연간 소득 컬럼의 첫번째 이상치 : \n",
      "77       180000000\n",
      "153      180000000\n",
      "158      180000000\n",
      "246      180000000\n",
      "252      180000000\n",
      "           ...    \n",
      "95627    180000000\n",
      "95739    180000000\n",
      "95789    180000000\n",
      "95875    180000000\n",
      "96249    180000000\n",
      "Name: 연간소득, Length: 1147, dtype: int64\n",
      "********************************************************************************\n",
      "최종 결과 : \n",
      "0         72000000\n",
      "1        130800000\n",
      "2         96000000\n",
      "3        132000000\n",
      "4         71736000\n",
      "           ...    \n",
      "96288     50400000\n",
      "96290    132000000\n",
      "96291     84000000\n",
      "96292     66330000\n",
      "96293     50400000\n",
      "Name: 연간소득, Length: 89838, dtype: int64\n",
      "********************************************************************************\n"
     ]
    }
   ],
   "source": [
    "### 연간 소득 컬럼의 네 번째 이상치 판단 \n",
    "\n",
    "# 연간소득컬럼의 네번째 이상치 확인 및 제거\n",
    "\n",
    "'''\n",
    "1. IQR = Q3- Q1\n",
    "2. 정상 범위의 취소 : Q1 - (IQR*1.5)\n",
    "3. 정상 범위의 최대 : Q3 + (IQR*1.5)\n",
    "'''\n",
    "\n",
    "cleaned_year3.plot(kind='box', rot=45)\n",
    "plt.show()\n",
    "\n",
    "# 이상치 존재..\n",
    "\n",
    "q1 = cleaned_year3.quantile(q=0.25)\n",
    "\n",
    "q3 = cleaned_year3.quantile(q=0.75)\n",
    "\n",
    "iqr = q3 - q1\n",
    "\n",
    "print(f'1사분위값 : \\n{q1}')\n",
    "print('*'*80)\n",
    "print(f'3사분위값 : \\n{q3}')\n",
    "print('*'*80)\n",
    "\n",
    "print(f'연간 소득 컬럼의 첫번째 iqr = {iqr}')\n",
    "\n",
    "print('*'*80)\n",
    "\n",
    "# 정상 범위의 최솟값\n",
    "min = q1 - ( iqr * 1.5)\n",
    "print(f'연간 소득 컬럼의 첫번째 정상범위의 최솟값 : {min}')\n",
    "\n",
    "# 정상 범위의 최댓값\n",
    "max = q3 + ( iqr * 1.5)\n",
    "print(f'연간 소득 컬럼의 첫번째 정상범위의 최댓값 : {max}')\n",
    "\n",
    "print('*'*80)\n",
    "\n",
    "condition = (cleaned_year3<min) | (cleaned_year3>max)\n",
    "\n",
    "print('*'*80)\n",
    "\n",
    "outlier = cleaned_year3.loc[condition]\n",
    "\n",
    "print(f'연간 소득 컬럼의 첫번째 이상치 : \\n{outlier}')\n",
    "\n",
    "outlier_index = cleaned_year3.loc[condition].index\n",
    "\n",
    "print('*'*80)\n",
    "\n",
    "# 이후에 drop()으로 이상치 제거\n",
    "# df.col.drop(index=[이상치 행의 인덱스])\n",
    "cleaned_year4 = cleaned_year3.drop(index=outlier_index)\n",
    "print(f'최종 결과 : \\n{cleaned_year4}')\n",
    "\n",
    "print('*'*80)\n",
    "\n",
    "\n"
   ]
  },
  {
   "cell_type": "code",
   "execution_count": 81,
   "metadata": {},
   "outputs": [
    {
     "data": {
      "image/png": "[encoded data removed]",
      "text/plain": [
       "<Figure size 1000x600 with 1 Axes>"
      ]
     },
     "metadata": {},
     "output_type": "display_data"
    },
    {
     "name": "stdout",
     "output_type": "stream",
     "text": [
      "1사분위값 : \n",
      "54568800.0\n",
      "********************************************************************************\n",
      "3사분위값 : \n",
      "102000000.0\n",
      "********************************************************************************\n",
      "연간 소득 컬럼의 첫번째 iqr = 47431200.0\n",
      "********************************************************************************\n",
      "연간 소득 컬럼의 첫번째 정상범위의 최솟값 : -16578000.0\n",
      "연간 소득 컬럼의 첫번째 정상범위의 최댓값 : 173146800.0\n",
      "********************************************************************************\n",
      "********************************************************************************\n",
      "연간 소득 컬럼의 첫번째 이상치 : \n",
      "62       174000000\n",
      "72       177600000\n",
      "271      178800000\n",
      "445      174000000\n",
      "456      174000000\n",
      "           ...    \n",
      "95858    174000000\n",
      "95907    176400000\n",
      "96026    174000000\n",
      "96161    174000000\n",
      "96261    174000000\n",
      "Name: 연간소득, Length: 462, dtype: int64\n",
      "********************************************************************************\n",
      "최종 결과 : \n",
      "0         72000000\n",
      "1        130800000\n",
      "2         96000000\n",
      "3        132000000\n",
      "4         71736000\n",
      "           ...    \n",
      "96288     50400000\n",
      "96290    132000000\n",
      "96291     84000000\n",
      "96292     66330000\n",
      "96293     50400000\n",
      "Name: 연간소득, Length: 89376, dtype: int64\n",
      "********************************************************************************\n"
     ]
    }
   ],
   "source": [
    "### 연간 소득 컬럼의 다섯번째 이상치 판단 \n",
    "\n",
    "# 연간소득컬럼의 다섯번째 이상치 확인 및 제거\n",
    "\n",
    "'''\n",
    "1. IQR = Q3- Q1\n",
    "2. 정상 범위의 취소 : Q1 - (IQR*1.5)\n",
    "3. 정상 범위의 최대 : Q3 + (IQR*1.5)\n",
    "'''\n",
    "\n",
    "cleaned_year4.plot(kind='box', rot=45)\n",
    "plt.show()\n",
    "\n",
    "# 이상치 존재..\n",
    "\n",
    "q1 = cleaned_year4.quantile(q=0.25)\n",
    "\n",
    "q3 = cleaned_year4.quantile(q=0.75)\n",
    "\n",
    "iqr = q3 - q1\n",
    "\n",
    "print(f'1사분위값 : \\n{q1}')\n",
    "print('*'*80)\n",
    "print(f'3사분위값 : \\n{q3}')\n",
    "print('*'*80)\n",
    "\n",
    "print(f'연간 소득 컬럼의 첫번째 iqr = {iqr}')\n",
    "\n",
    "print('*'*80)\n",
    "\n",
    "# 정상 범위의 최솟값\n",
    "min = q1 - ( iqr * 1.5)\n",
    "print(f'연간 소득 컬럼의 첫번째 정상범위의 최솟값 : {min}')\n",
    "\n",
    "# 정상 범위의 최댓값\n",
    "max = q3 + ( iqr * 1.5)\n",
    "print(f'연간 소득 컬럼의 첫번째 정상범위의 최댓값 : {max}')\n",
    "\n",
    "print('*'*80)\n",
    "\n",
    "condition = (cleaned_year4<min) | (cleaned_year4>max)\n",
    "\n",
    "print('*'*80)\n",
    "\n",
    "outlier = cleaned_year4.loc[condition]\n",
    "\n",
    "print(f'연간 소득 컬럼의 첫번째 이상치 : \\n{outlier}')\n",
    "\n",
    "outlier_index = cleaned_year4.loc[condition].index\n",
    "\n",
    "print('*'*80)\n",
    "\n",
    "# 이후에 drop()으로 이상치 제거\n",
    "# df.col.drop(index=[이상치 행의 인덱스])\n",
    "cleaned_year5 = cleaned_year4.drop(index=outlier_index)\n",
    "print(f'최종 결과 : \\n{cleaned_year5}')\n",
    "\n",
    "print('*'*80)\n",
    "\n",
    "\n"
   ]
  },
  {
   "cell_type": "code",
   "execution_count": 82,
   "metadata": {},
   "outputs": [
    {
     "data": {
      "image/png": "[encoded data removed]",
      "text/plain": [
       "<Figure size 1000x600 with 1 Axes>"
      ]
     },
     "metadata": {},
     "output_type": "display_data"
    }
   ],
   "source": [
    "### 연간 소득 컬럼의 여섯번째 이상치 판단 \n",
    "\n",
    "# 연간소득컬럼의 여섯번째 이상치 확인 및 제거\n",
    "\n",
    "'''\n",
    "1. IQR = Q3- Q1\n",
    "2. 정상 범위의 취소 : Q1 - (IQR*1.5)\n",
    "3. 정상 범위의 최대 : Q3 + (IQR*1.5)\n",
    "'''\n",
    "\n",
    "cleaned_year5.plot(kind='box', rot=45)\n",
    "plt.show()\n",
    "\n",
    "# 이제서야 이상치가 제거됨..\n",
    "\n",
    "## \n",
    "#\n",
    "#q1 = cleaned_year4.quantile(q=0.25)\n",
    "#\n",
    "#q3 = cleaned_year4.quantile(q=0.75)\n",
    "#\n",
    "#iqr = q3 - q1\n",
    "#\n",
    "#print(f'1사분위값 : \\n{q1}')\n",
    "#print('*'*80)\n",
    "#print(f'3사분위값 : \\n{q3}')\n",
    "#print('*'*80)\n",
    "#\n",
    "#print(f'연간 소득 컬럼의 첫번째 iqr = {iqr}')\n",
    "#\n",
    "#print('*'*80)\n",
    "#\n",
    "## 정상 범위의 최솟값\n",
    "#min = q1 - ( iqr * 1.5)\n",
    "#print(f'연간 소득 컬럼의 첫번째 정상범위의 최솟값 : {min}')\n",
    "#\n",
    "## 정상 범위의 최댓값\n",
    "#max = q3 + ( iqr * 1.5)\n",
    "#print(f'연간 소득 컬럼의 첫번째 정상범위의 최댓값 : {max}')\n",
    "#\n",
    "#print('*'*80)\n",
    "#\n",
    "#condition = (cleaned_year4<min) | (cleaned_year4>max)\n",
    "#\n",
    "#print('*'*80)\n",
    "#\n",
    "#outlier = cleaned_year4.loc[condition]\n",
    "#\n",
    "#print(f'연간 소득 컬럼의 첫번째 이상치 : \\n{outlier}')\n",
    "#\n",
    "#outlier_index = cleaned_year4.loc[condition].index\n",
    "#\n",
    "#print('*'*80)\n",
    "#\n",
    "## 이후에 drop()으로 이상치 제거\n",
    "## df.col.drop(index=[이상치 행의 인덱스])\n",
    "#cleaned_year5 = cleaned_year4.drop(index=outlier_index)\n",
    "#print(f'최종 결과 : \\n{cleaned_year5}')\n",
    "#\n",
    "#print('*'*80)\n",
    "#\n",
    "#\n"
   ]
  },
  {
   "cell_type": "code",
   "execution_count": 68,
   "metadata": {},
   "outputs": [
    {
     "data": {
      "text/plain": [
       "Index(['ID', '대출금액', '대출기간', '근로기간', '주택소유상태', '연간소득', '부채_대비_소득_비율', '총계좌수',\n",
       "       '대출목적', '최근_2년간_연체_횟수', '총상환원금', '총상환이자', '총연체금액', '연체계좌수'],\n",
       "      dtype='object')"
      ]
     },
     "execution_count": 68,
     "metadata": {},
     "output_type": "execute_result"
    }
   ],
   "source": [
    "cleaned_df.columns\n"
   ]
  },
  {
   "cell_type": "code",
   "execution_count": 71,
   "metadata": {},
   "outputs": [
    {
     "data": {
      "image/png": "[encoded data removed]",
      "text/plain": [
       "<Figure size 1000x600 with 1 Axes>"
      ]
     },
     "metadata": {},
     "output_type": "display_data"
    },
    {
     "name": "stdout",
     "output_type": "stream",
     "text": [
      " 1사분위값 : \n",
      "12.65\n",
      "********************************************************************************\n",
      " 3사분위값 : \n",
      "25.54\n",
      "********************************************************************************\n",
      "부채 대비 소득 비율컬럼의 첫번째 iqr = 12.889999999999999\n",
      "********************************************************************************\n",
      "부채 대비 소득 비율 컬럼의 첫번째 정상범위의 최솟값 : -6.684999999999997\n",
      "부채 대비 소득 비율 컬럼의 첫번째 정상범위의 최댓값 : 6.205000000000002\n",
      "********************************************************************************\n",
      "********************************************************************************\n",
      "부채 대비 소득 비율 컬럼의 첫번째 이상치 : \n",
      "                ID      대출금액 대출기간     근로기간    주택소유상태       연간소득  부채_대비_소득_비율  \\\n",
      "0      TRAIN_00000  12480000   36        6      RENT   72000000        18.90   \n",
      "1      TRAIN_00001  14400000   60      10+  MORTGAGE  130800000        22.33   \n",
      "2      TRAIN_00002  12000000   36        5  MORTGAGE   96000000         8.60   \n",
      "3      TRAIN_00003  14400000   36        8  MORTGAGE  132000000        15.09   \n",
      "4      TRAIN_00004  18000000   60  Unknown      RENT   71736000        25.39   \n",
      "...            ...       ...  ...      ...       ...        ...          ...   \n",
      "96288  TRAIN_96288  21150000   36  Unknown  MORTGAGE   50400000        34.89   \n",
      "96289  TRAIN_96289  14400000   36      10+  MORTGAGE  210000000         9.33   \n",
      "96291  TRAIN_96291  14400000   36        1  MORTGAGE   84000000        11.24   \n",
      "96292  TRAIN_96292  15600000   36        5  MORTGAGE   66330000        17.30   \n",
      "96293  TRAIN_96293   8640000   36      10+      RENT   50400000        11.80   \n",
      "\n",
      "       총계좌수   대출목적  최근_2년간_연체_횟수    총상환원금     총상환이자  총연체금액  연체계좌수  \n",
      "0        15  부채 통합             0        0       0.0    0.0    0.0  \n",
      "1        21  주택 개선             0   373572  234060.0    0.0    0.0  \n",
      "2        14  부채 통합             0   928644  151944.0    0.0    0.0  \n",
      "3        15  부채 통합             0   325824  153108.0    0.0    0.0  \n",
      "4        19  주요 구매             0   228540  148956.0    0.0    0.0  \n",
      "...     ...    ...           ...      ...       ...    ...    ...  \n",
      "96288    29  부채 통합            10  1481496  620328.0    0.0    0.0  \n",
      "96289    33  신용 카드             0   974580  492168.0    0.0    0.0  \n",
      "96291    22  신용 카드             0  1489128  241236.0    0.0    0.0  \n",
      "96292    21  부채 통합             2  1378368  818076.0    0.0    0.0  \n",
      "96293    14  신용 카드             0   596148  274956.0    0.0    0.0  \n",
      "\n",
      "[90514 rows x 14 columns]\n",
      "********************************************************************************\n",
      " 부채 대비 소득 비율 컬럼의 첫번째 이상치 데이터의 인덱스 : \n",
      "Index([    0,     1,     2,     3,     4,     5,     6,     7,     8,     9,\n",
      "       ...\n",
      "       96283, 96284, 96285, 96286, 96287, 96288, 96289, 96291, 96292, 96293],\n",
      "      dtype='int64', length=90514)\n",
      "********************************************************************************\n",
      "최종 경과 : \n",
      "34       2.13\n",
      "43       1.69\n",
      "49       5.90\n",
      "57       3.99\n",
      "75       5.68\n",
      "         ... \n",
      "96210    5.75\n",
      "96235    0.39\n",
      "96252    4.60\n",
      "96268    5.31\n",
      "96290    5.16\n",
      "Name: 부채_대비_소득_비율, Length: 5780, dtype: float64\n",
      "********************************************************************************\n"
     ]
    }
   ],
   "source": [
    "# 부채 대비 소득 비율 컬럼의 이상치 확인\n",
    "\n",
    "cleaned_df.loc[:,'부채_대비_소득_비율'].plot(kind='box', rot=45)\n",
    "plt.show()\n",
    "\n",
    "# 이상치 존재 \n",
    "\n",
    "'''\n",
    "1. IQR = Q3- Q1\n",
    "2. 젇상 범위의 취소 : Q1 - (IQR*1.5)\n",
    "3. 정상 범위의 최대 : Q3 + (IQR*1.5)\n",
    "'''\n",
    "\n",
    "q1 = cleaned_df.loc[:,'부채_대비_소득_비율'].quantile(q=0.25)\n",
    "\n",
    "q3 = cleaned_df.loc[:,'부채_대비_소득_비율'].quantile(q=0.75)\n",
    "\n",
    "iqr = q3 - q1\n",
    "\n",
    "print(f' 1사분위값 : \\n{q1}')\n",
    "print('*'*80)\n",
    "print(f' 3사분위값 : \\n{q3}')\n",
    "print('*'*80)\n",
    "\n",
    "print(f'부채 대비 소득 비율컬럼의 첫번째 iqr = {iqr}')\n",
    "\n",
    "print('*'*80)\n",
    "\n",
    "# 정상범위의 최솟값\n",
    "\n",
    "min = q1 - ( iqr * 1.5 ) \n",
    "print(f'부채 대비 소득 비율 컬럼의 첫번째 정상범위의 최솟값 : {min}')\n",
    "\n",
    "# 정상범위의 최댓값\n",
    "max = q3 - ( iqr * 1.5 ) \n",
    "print(f'부채 대비 소득 비율 컬럼의 첫번째 정상범위의 최댓값 : {max}')\n",
    "\n",
    "print('*'*80)\n",
    "\n",
    "condition = (cleaned_df.loc[:,'부채_대비_소득_비율']<min) | (cleaned_df.loc[:,'부채_대비_소득_비율']>max)\n",
    "\n",
    "print('*'*80)\n",
    "\n",
    "outlier = cleaned_df.loc[condition]\n",
    "\n",
    "print(f'부채 대비 소득 비율 컬럼의 첫번째 이상치 : \\n{outlier}')\n",
    "\n",
    "print('*'*80)\n",
    "\n",
    "outlier_index = cleaned_df.loc[condition].index\n",
    "print(f' 부채 대비 소득 비율 컬럼의 첫번째 이상치 데이터의 인덱스 : \\n{outlier_index}')\n",
    "\n",
    "print('*'*80)\n",
    "\n",
    "# 이후에 drop()으로 이상치 제거.\n",
    "# df.col.drop(index=[이상치 행의 인덱스])\n",
    "cleaned_ratio = cleaned_df.loc[:,'부채_대비_소득_비율'].drop(index=outlier_index)\n",
    "print(f'최종 경과 : \\n{cleaned_ratio}')\n",
    "\n",
    "print('*'*80)\n",
    "\n",
    "# 이상치 존재."
   ]
  },
  {
   "cell_type": "code",
   "execution_count": 72,
   "metadata": {},
   "outputs": [
    {
     "data": {
      "image/png": "[encoded data removed]",
      "text/plain": [
       "<Figure size 1000x600 with 1 Axes>"
      ]
     },
     "metadata": {},
     "output_type": "display_data"
    }
   ],
   "source": [
    "# 부채 대비 소득 비율 컬럼의 두번째 이상치 확인\n",
    "\n",
    "cleaned_ratio.plot(kind='box', rot=45)\n",
    "plt.show()\n",
    "\n",
    "\n",
    "\n",
    "## 이상치 존재하지 않음. 여기서 끝. \n",
    "#\n",
    "#'''\n",
    "#1. IQR = Q3- Q1\n",
    "#2. 젇상 범위의 취소 : Q1 - (IQR*1.5)\n",
    "#3. 정상 범위의 최대 : Q3 + (IQR*1.5)\n",
    "#'''\n",
    "#\n",
    "#q1 = cleaned_df.loc[:,'부채_대비_소득_비율'].quantile(q=0.25)\n",
    "#\n",
    "#q3 = cleaned_df.loc[:,'부채_대비_소득_비율'].quantile(q=0.75)\n",
    "#\n",
    "#iqr = q3 - q1\n",
    "#\n",
    "#print(f' 1사분위값 : \\n{q1}')\n",
    "#print('*'*80)\n",
    "#print(f' 3사분위값 : \\n{q3}')\n",
    "#print('*'*80)\n",
    "#\n",
    "#print(f'부채 대비 소득 비율컬럼의 첫번째 iqr = {iqr}')\n",
    "#\n",
    "#print('*'*80)\n",
    "#\n",
    "## 정상범위의 최솟값\n",
    "#\n",
    "#min = q1 - ( iqr * 1.5 ) \n",
    "#print(f'부채 대비 소득 비율 컬럼의 첫번째 정상범위의 최솟값 : {min}')\n",
    "#\n",
    "## 정상범위의 최댓값\n",
    "#max = q3 - ( iqr * 1.5 ) \n",
    "#print(f'부채 대비 소득 비율 컬럼의 첫번째 정상범위의 최댓값 : {max}')\n",
    "#\n",
    "#print('*'*80)\n",
    "#\n",
    "#condition = (cleaned_df.loc[:,'부채_대비_소득_비율']<min) | (cleaned_df.loc[:,'부채_대비_소득_비율']>max)\n",
    "#\n",
    "#print('*'*80)\n",
    "#\n",
    "#outlier = cleaned_df.loc[condition]\n",
    "#\n",
    "#print(f'부채 대비 소득 비율 컬럼의 첫번째 이상치 : \\n{outlier}')\n",
    "#\n",
    "#print('*'*80)\n",
    "#\n",
    "#outlier_index = cleaned_df.loc[condition].index\n",
    "#print(f' 부채 대비 소득 비율 컬럼의 첫번째 이상치 데이터의 인덱스 : \\n{outlier_index}')\n",
    "#\n",
    "#print('*'*80)\n",
    "#\n",
    "## 이후에 drop()으로 이상치 제거.\n",
    "## df.col.drop(index=[이상치 행의 인덱스])\n",
    "#cleaned_ratio = cleaned_df.loc[:,'부채_대비_소득_비율'].drop(index=outlier_index)\n",
    "#print(f'최종 경과 : \\n{cleaned_ratio}')\n",
    "#\n",
    "#print('*'*80)\n",
    "#\n",
    "## 이상치 존재."
   ]
  },
  {
   "cell_type": "code",
   "execution_count": 83,
   "metadata": {},
   "outputs": [
    {
     "data": {
      "text/plain": [
       "Index(['ID', '대출금액', '대출기간', '근로기간', '주택소유상태', '연간소득', '부채_대비_소득_비율', '총계좌수',\n",
       "       '대출목적', '최근_2년간_연체_횟수', '총상환원금', '총상환이자', '총연체금액', '연체계좌수'],\n",
       "      dtype='object')"
      ]
     },
     "execution_count": 83,
     "metadata": {},
     "output_type": "execute_result"
    }
   ],
   "source": [
    "cleaned_df.columns"
   ]
  },
  {
   "cell_type": "code",
   "execution_count": 85,
   "metadata": {},
   "outputs": [
    {
     "name": "stdout",
     "output_type": "stream",
     "text": [
      "1사분위값 : \n",
      "17.0\n",
      "********************************************************************************\n",
      "3사분위값 : \n",
      "32.0\n",
      "********************************************************************************\n",
      "연간 소득 컬럼의 첫번째 iqr = 15.0\n",
      "********************************************************************************\n",
      "총계좌수 컬럼의 첫번째 정상범위의 최솟값 : -5.5\n",
      "총계좌수 컬럼의 첫번째 정상범위의 최댓값 : 54.5\n",
      "********************************************************************************\n",
      "********************************************************************************\n",
      "총계좌수 컬럼의 첫번째 이상치 : \n",
      "                ID      대출금액 대출기간 근로기간    주택소유상태       연간소득  부채_대비_소득_비율  \\\n",
      "27     TRAIN_00027  12960000   36  10+  MORTGAGE  117600000        36.75   \n",
      "59     TRAIN_00059  16200000   36    5  MORTGAGE   78000000        33.29   \n",
      "64     TRAIN_00064  30000000   60  10+  MORTGAGE  120769200        21.85   \n",
      "102    TRAIN_00102  26400000   60  10+  MORTGAGE   73560000        33.91   \n",
      "134    TRAIN_00134  15000000   36  10+  MORTGAGE  184800000        18.01   \n",
      "...            ...       ...  ...  ...       ...        ...          ...   \n",
      "96028  TRAIN_96028   9600000   36  10+      RENT   87000000        28.77   \n",
      "96098  TRAIN_96098  14400000   36    2      RENT   98400000        17.25   \n",
      "96155  TRAIN_96155  24000000   60  10+      RENT   64800000        23.69   \n",
      "96207  TRAIN_96207  12000000   36    9      RENT   38400000        21.49   \n",
      "96214  TRAIN_96214  18000000   36    2      RENT   72000000        28.08   \n",
      "\n",
      "       총계좌수   대출목적  최근_2년간_연체_횟수    총상환원금      총상환이자  총연체금액  연체계좌수  \n",
      "27       59  신용 카드             9   623052   206016.0    0.0    0.0  \n",
      "59       59  부채 통합             0   822864   188808.0    0.0    0.0  \n",
      "64       63  부채 통합             0  1280340  1728000.0    0.0    0.0  \n",
      "102      76  신용 카드             0   272868   400404.0    0.0    0.0  \n",
      "134      55  부채 통합             0   367932    90780.0    0.0    0.0  \n",
      "...     ...    ...           ...      ...        ...    ...    ...  \n",
      "96028    60  부채 통합             0   446028   181260.0    0.0    0.0  \n",
      "96098    63     기타             0   349020    95364.0    0.0    0.0  \n",
      "96155    60  부채 통합             0   809868   884532.0    0.0    0.0  \n",
      "96207    56  부채 통합             0   568404   181260.0    0.0    0.0  \n",
      "96214    56  부채 통합             0   875892   262596.0    0.0    0.0  \n",
      "\n",
      "[2097 rows x 14 columns]\n",
      "********************************************************************************\n",
      "최종 결과 : \n",
      "0        15\n",
      "1        21\n",
      "2        14\n",
      "3        15\n",
      "4        19\n",
      "         ..\n",
      "96289    33\n",
      "96290    25\n",
      "96291    22\n",
      "96292    21\n",
      "96293    14\n",
      "Name: 총계좌수, Length: 94197, dtype: int64\n",
      "********************************************************************************\n"
     ]
    }
   ],
   "source": [
    "# 총 계좌 수 컬럼의 첫번째 이상치 확인 및 제거\n",
    "\n",
    "'''\n",
    "1. IQR = Q3- Q1\n",
    "2. 정상 범위의 취소 : Q1 - (IQR*1.5)\n",
    "3. 정상 범위의 최대 : Q3 + (IQR*1.5)\n",
    "'''\n",
    "\n",
    "q1 = cleaned_df.loc[:,'총계좌수'].quantile(q=0.25)\n",
    "\n",
    "q3 = cleaned_df.loc[:,'총계좌수'].quantile(q=0.75)\n",
    "\n",
    "iqr = q3 - q1\n",
    "\n",
    "print(f'1사분위값 : \\n{q1}')\n",
    "print('*'*80)\n",
    "print(f'3사분위값 : \\n{q3}')\n",
    "print('*'*80)\n",
    "\n",
    "print(f'연간 소득 컬럼의 첫번째 iqr = {iqr}')\n",
    "\n",
    "print('*'*80)\n",
    "\n",
    "# 정상 범위의 최솟값\n",
    "min = q1 - ( iqr * 1.5)\n",
    "print(f'총계좌수 컬럼의 첫번째 정상범위의 최솟값 : {min}')\n",
    "\n",
    "# 정상 범위의 최댓값\n",
    "max = q3 + ( iqr * 1.5)\n",
    "print(f'총계좌수 컬럼의 첫번째 정상범위의 최댓값 : {max}')\n",
    "\n",
    "print('*'*80)\n",
    "\n",
    "condition = (cleaned_df.loc[:,'총계좌수']<min) | (cleaned_df.loc[:,'총계좌수']>max)\n",
    "\n",
    "print('*'*80)\n",
    "\n",
    "outlier = cleaned_df.loc[condition]\n",
    "\n",
    "print(f'총계좌수 컬럼의 첫번째 이상치 : \\n{outlier}')\n",
    "\n",
    "outlier_index = cleaned_df.loc[condition].index\n",
    "\n",
    "print('*'*80)\n",
    "\n",
    "# 이후에 drop()으로 이상치 제거\n",
    "# df.col.drop(index=[이상치 행의 인덱스])\n",
    "cleaned_counts = cleaned_df.loc[:,'총계좌수'].drop(index=outlier_index)\n",
    "print(f'최종 결과 : \\n{cleaned_counts}')\n",
    "\n",
    "print('*'*80)\n",
    "\n",
    "\n"
   ]
  },
  {
   "cell_type": "code",
   "execution_count": 86,
   "metadata": {},
   "outputs": [
    {
     "data": {
      "image/png": "[encoded data removed]",
      "text/plain": [
       "<Figure size 1000x600 with 1 Axes>"
      ]
     },
     "metadata": {},
     "output_type": "display_data"
    }
   ],
   "source": [
    "# 총 계좌 수 컬럼의 두번째 이상치 확인 및 제거\n",
    "\n",
    "'''\n",
    "1. IQR = Q3- Q1\n",
    "2. 정상 범위의 취소 : Q1 - (IQR*1.5)\n",
    "3. 정상 범위의 최대 : Q3 + (IQR*1.5)\n",
    "'''\n",
    "\n",
    "cleaned_counts.plot(kind='box', rot=45)\n",
    "plt.show()\n",
    "\n",
    "# 이상치가 존재\n",
    "\n",
    "#q1 = cleaned_df.loc[:,'총계좌수'].quantile(q=0.25)\n",
    "#\n",
    "#q3 = cleaned_df.loc[:,'총계좌수'].quantile(q=0.75)\n",
    "#\n",
    "#iqr = q3 - q1\n",
    "#\n",
    "#print(f'1사분위값 : \\n{q1}')\n",
    "#print('*'*80)\n",
    "#print(f'3사분위값 : \\n{q3}')\n",
    "#print('*'*80)\n",
    "#\n",
    "#print(f'연간 소득 컬럼의 첫번째 iqr = {iqr}')\n",
    "#\n",
    "#print('*'*80)\n",
    "#\n",
    "## 정상 범위의 최솟값\n",
    "#min = q1 - ( iqr * 1.5)\n",
    "#print(f'총계좌수 컬럼의 첫번째 정상범위의 최솟값 : {min}')\n",
    "#\n",
    "## 정상 범위의 최댓값\n",
    "#max = q3 + ( iqr * 1.5)\n",
    "#print(f'총계좌수 컬럼의 첫번째 정상범위의 최댓값 : {max}')\n",
    "#\n",
    "#print('*'*80)\n",
    "#\n",
    "#condition = (cleaned_df.loc[:,'총계좌수']<min) | (cleaned_df.loc[:,'총계좌수']>max)\n",
    "#\n",
    "#print('*'*80)\n",
    "#\n",
    "#outlier = cleaned_df.loc[condition]\n",
    "#\n",
    "#print(f'총계좌수 컬럼의 첫번째 이상치 : \\n{outlier}')\n",
    "#\n",
    "#outlier_index = cleaned_df.loc[condition].index\n",
    "#\n",
    "#print('*'*80)\n",
    "#\n",
    "## 이후에 drop()으로 이상치 제거\n",
    "## df.col.drop(index=[이상치 행의 인덱스])\n",
    "#cleaned_counts = cleaned_df.loc[:,'총계좌수'].drop(index=outlier_index)\n",
    "#print(f'최종 결과 : \\n{cleaned_counts}')\n",
    "#\n",
    "#print('*'*80)\n",
    "#\n",
    "#\n"
   ]
  },
  {
   "cell_type": "markdown",
   "metadata": {},
   "source": [
    "### Label Encoding"
   ]
  },
  {
   "cell_type": "code",
   "execution_count": 32,
   "metadata": {},
   "outputs": [
    {
     "name": "stdout",
     "output_type": "stream",
     "text": [
      "['A' 'B' 'C' 'D' 'E' 'F' 'G']\n"
     ]
    }
   ],
   "source": [
    "kind1 = np.unique(df_train.loc[:,'대출등급'].values)\n",
    "print(kind1)"
   ]
  },
  {
   "cell_type": "code",
   "execution_count": 33,
   "metadata": {},
   "outputs": [
    {
     "name": "stdout",
     "output_type": "stream",
     "text": [
      "['1 year' '1 years' '10+ years' '10+years' '2 years' '3' '3 years'\n",
      " '4 years' '5 years' '6 years' '7 years' '8 years' '9 years' '< 1 year'\n",
      " '<1 year' 'Unknown']\n"
     ]
    }
   ],
   "source": [
    "kind2 = np.unique(df_train.loc[:,'근로기간'].values)\n",
    "print(kind2)\n",
    "\n",
    "\n"
   ]
  },
  {
   "cell_type": "code",
   "execution_count": 34,
   "metadata": {},
   "outputs": [
    {
     "name": "stdout",
     "output_type": "stream",
     "text": [
      "['ANY' 'MORTGAGE' 'OWN' 'RENT']\n"
     ]
    }
   ],
   "source": [
    "kind3 = np.unique(df_train.loc[:,'주택소유상태'].values)\n",
    "print(kind3)"
   ]
  },
  {
   "cell_type": "markdown",
   "metadata": {},
   "source": [
    "# EDA"
   ]
  },
  {
   "cell_type": "code",
   "execution_count": 35,
   "metadata": {},
   "outputs": [
    {
     "data": {
      "image/png": "[encoded data removed]",
      "text/plain": [
       "<Figure size 1000x600 with 1 Axes>"
      ]
     },
     "metadata": {},
     "output_type": "display_data"
    }
   ],
   "source": [
    "### 고객의 대출금액과 고객의 대출등급과의 관계 분석\n",
    "\n",
    "sns.boxplot(data=df_train, x='대출등급', y='대출금액')\n",
    "plt.rcParams['figure.figsize'] = [10, 6]\n",
    "plt.show()"
   ]
  },
  {
   "cell_type": "code",
   "execution_count": 36,
   "metadata": {},
   "outputs": [
    {
     "data": {
      "text/plain": [
       "'\\n\\n대출금액이 올라갈수록 대출등급이 떨어지거나 하는 뚜렷한 인과는 없지만\\n\\n대출등급이 높은 집단들은 대부분 대출금액이 적당한 선을 유지하는 것으로 해석된다\\n\\n'"
      ]
     },
     "execution_count": 36,
     "metadata": {},
     "output_type": "execute_result"
    }
   ],
   "source": [
    "'''\n",
    "\n",
    "대출금액이 올라갈수록 대출등급이 떨어지거나 하는 뚜렷한 인과는 없지만\n",
    "\n",
    "대출등급이 높은 집단들은 대부분 대출금액이 적당한 선을 유지하는 것으로 해석된다\n",
    "\n",
    "'''\n",
    "\n"
   ]
  },
  {
   "cell_type": "code",
   "execution_count": 37,
   "metadata": {},
   "outputs": [
    {
     "data": {
      "image/png": "[encoded data removed]",
      "text/plain": [
       "<Figure size 1000x600 with 1 Axes>"
      ]
     },
     "metadata": {},
     "output_type": "display_data"
    }
   ],
   "source": [
    "### 고객의 대출기간과 고객의 대출등급의 관계 분석\n",
    "\n",
    "sns.countplot(data=df_train, x='대출기간', hue='대출등급')\n",
    "plt.rcParams['figure.figsize'] = [10, 6]\n",
    "plt.show()"
   ]
  },
  {
   "cell_type": "code",
   "execution_count": 38,
   "metadata": {},
   "outputs": [
    {
     "data": {
      "text/plain": [
       "'\\n\\n36개월 대출한 집단들 중 대출등급 B인원이 제일 많고 F인원이 제일 적다.\\n\\n60개월 대출한 집단들 중 대출등급 C인원이 제일 많고 G인원이 제일 적다.\\n\\n이와 같은 결과로 보다 대출등급이 높은 인원일수록 대출이 많고\\n\\n대출한 개월이 많을수록 대출등급이 낮은 인원들의 수는 감소가 된다.\\n\\n어찌보면 당연한 사실이다.\\n\\n'"
      ]
     },
     "execution_count": 38,
     "metadata": {},
     "output_type": "execute_result"
    }
   ],
   "source": [
    "'''\n",
    "\n",
    "36개월 대출한 집단들 중 대출등급 B인원이 제일 많고 F인원이 제일 적다.\n",
    "\n",
    "60개월 대출한 집단들 중 대출등급 C인원이 제일 많고 G인원이 제일 적다.\n",
    "\n",
    "이와 같은 결과로 보다 대출등급이 높은 인원일수록 대출이 많고\n",
    "\n",
    "대출한 개월이 많을수록 대출등급이 낮은 인원들의 수는 감소가 된다.\n",
    "\n",
    "어찌보면 당연한 사실이다.\n",
    "\n",
    "'''"
   ]
  },
  {
   "cell_type": "code",
   "execution_count": 39,
   "metadata": {},
   "outputs": [
    {
     "data": {
      "image/png": "[encoded data removed]",
      "text/plain": [
       "<Figure size 1000x600 with 1 Axes>"
      ]
     },
     "metadata": {},
     "output_type": "display_data"
    }
   ],
   "source": [
    "### 근로기간과 고객의 대출등급과의 관계 분석\n",
    "\n",
    "sns.countplot(data=df_train, x='대출등급', hue='근로기간')\n",
    "plt.rcParams['figure.figsize'] = [10, 6]\n",
    "plt.show()"
   ]
  },
  {
   "cell_type": "code",
   "execution_count": 40,
   "metadata": {},
   "outputs": [
    {
     "data": {
      "text/plain": [
       "'\\n\\n10년 이상 근로한 인원이 제일 많은 집단은 B그룹이며, C A D E F G 순서대로 이어진다.\\n\\n근로한 인원이 높을수록 대출등급자체가 높은 것으로 보인다.\\n\\n'"
      ]
     },
     "execution_count": 40,
     "metadata": {},
     "output_type": "execute_result"
    }
   ],
   "source": [
    "'''\n",
    "\n",
    "10년 이상 근로한 인원이 제일 많은 집단은 B그룹이며, C A D E F G 순서대로 이어진다.\n",
    "\n",
    "근로한 인원이 높을수록 대출등급자체가 높은 것으로 보인다.\n",
    "\n",
    "'''\n",
    "\n"
   ]
  },
  {
   "cell_type": "code",
   "execution_count": 41,
   "metadata": {},
   "outputs": [
    {
     "data": {
      "image/png": "[encoded data removed]",
      "text/plain": [
       "<Figure size 1000x600 with 1 Axes>"
      ]
     },
     "metadata": {},
     "output_type": "display_data"
    }
   ],
   "source": [
    "### 주택소유상태와 고객의 대출등급과의 관계 분석\n",
    "\n",
    "sns.countplot(data=df_train, x='주택소유상태', hue='대출등급')\n",
    "plt.rcParams['figure.figsize'] = [10,6]\n",
    "plt.show()\n"
   ]
  },
  {
   "cell_type": "code",
   "execution_count": null,
   "metadata": {},
   "outputs": [],
   "source": []
  },
  {
   "cell_type": "code",
   "execution_count": null,
   "metadata": {},
   "outputs": [],
   "source": []
  },
  {
   "cell_type": "code",
   "execution_count": 42,
   "metadata": {},
   "outputs": [
    {
     "name": "stdout",
     "output_type": "stream",
     "text": [
      "                ID      대출금액        대출기간       근로기간    주택소유상태       연간소득  \\\n",
      "0      TRAIN_00000  12480000   36 months    6 years      RENT   72000000   \n",
      "1      TRAIN_00001  14400000   60 months  10+ years  MORTGAGE  130800000   \n",
      "2      TRAIN_00002  12000000   36 months    5 years  MORTGAGE   96000000   \n",
      "3      TRAIN_00003  14400000   36 months    8 years  MORTGAGE  132000000   \n",
      "4      TRAIN_00004  18000000   60 months    Unknown      RENT   71736000   \n",
      "...            ...       ...         ...        ...       ...        ...   \n",
      "96289  TRAIN_96289  14400000   36 months  10+ years  MORTGAGE  210000000   \n",
      "96290  TRAIN_96290  28800000   60 months  10+ years  MORTGAGE  132000000   \n",
      "96291  TRAIN_96291  14400000   36 months     1 year  MORTGAGE   84000000   \n",
      "96292  TRAIN_96292  15600000   36 months    5 years  MORTGAGE   66330000   \n",
      "96293  TRAIN_96293   8640000   36 months  10+ years      RENT   50400000   \n",
      "\n",
      "       부채_대비_소득_비율  총계좌수   대출목적  최근_2년간_연체_횟수    총상환원금     총상환이자  총연체금액  \\\n",
      "0            18.90    15  부채 통합             0        0       0.0    0.0   \n",
      "1            22.33    21  주택 개선             0   373572  234060.0    0.0   \n",
      "2             8.60    14  부채 통합             0   928644  151944.0    0.0   \n",
      "3            15.09    15  부채 통합             0   325824  153108.0    0.0   \n",
      "4            25.39    19  주요 구매             0   228540  148956.0    0.0   \n",
      "...            ...   ...    ...           ...      ...       ...    ...   \n",
      "96289         9.33    33  신용 카드             0   974580  492168.0    0.0   \n",
      "96290         5.16    25  주택 개선             0   583728  855084.0    0.0   \n",
      "96291        11.24    22  신용 카드             0  1489128  241236.0    0.0   \n",
      "96292        17.30    21  부채 통합             2  1378368  818076.0    0.0   \n",
      "96293        11.80    14  신용 카드             0   596148  274956.0    0.0   \n",
      "\n",
      "       연체계좌수 대출등급  \n",
      "0        0.0    C  \n",
      "1        0.0    B  \n",
      "2        0.0    A  \n",
      "3        0.0    C  \n",
      "4        0.0    B  \n",
      "...      ...  ...  \n",
      "96289    0.0    C  \n",
      "96290    0.0    E  \n",
      "96291    0.0    A  \n",
      "96292    0.0    D  \n",
      "96293    0.0    C  \n",
      "\n",
      "[96294 rows x 15 columns]\n",
      "36\n",
      "                ID      대출금액 대출기간       근로기간    주택소유상태       연간소득  \\\n",
      "0      TRAIN_00000  12480000   36    6 years      RENT   72000000   \n",
      "1      TRAIN_00001  14400000   60  10+ years  MORTGAGE  130800000   \n",
      "2      TRAIN_00002  12000000   36    5 years  MORTGAGE   96000000   \n",
      "3      TRAIN_00003  14400000   36    8 years  MORTGAGE  132000000   \n",
      "4      TRAIN_00004  18000000   60    Unknown      RENT   71736000   \n",
      "...            ...       ...  ...        ...       ...        ...   \n",
      "96289  TRAIN_96289  14400000   36  10+ years  MORTGAGE  210000000   \n",
      "96290  TRAIN_96290  28800000   60  10+ years  MORTGAGE  132000000   \n",
      "96291  TRAIN_96291  14400000   36     1 year  MORTGAGE   84000000   \n",
      "96292  TRAIN_96292  15600000   36    5 years  MORTGAGE   66330000   \n",
      "96293  TRAIN_96293   8640000   36  10+ years      RENT   50400000   \n",
      "\n",
      "       부채_대비_소득_비율  총계좌수   대출목적  최근_2년간_연체_횟수    총상환원금     총상환이자  총연체금액  연체계좌수  \n",
      "0            18.90    15  부채 통합             0        0       0.0    0.0    0.0  \n",
      "1            22.33    21  주택 개선             0   373572  234060.0    0.0    0.0  \n",
      "2             8.60    14  부채 통합             0   928644  151944.0    0.0    0.0  \n",
      "3            15.09    15  부채 통합             0   325824  153108.0    0.0    0.0  \n",
      "4            25.39    19  주요 구매             0   228540  148956.0    0.0    0.0  \n",
      "...            ...   ...    ...           ...      ...       ...    ...    ...  \n",
      "96289         9.33    33  신용 카드             0   974580  492168.0    0.0    0.0  \n",
      "96290         5.16    25  주택 개선             0   583728  855084.0    0.0    0.0  \n",
      "96291        11.24    22  신용 카드             0  1489128  241236.0    0.0    0.0  \n",
      "96292        17.30    21  부채 통합             2  1378368  818076.0    0.0    0.0  \n",
      "96293        11.80    14  신용 카드             0   596148  274956.0    0.0    0.0  \n",
      "\n",
      "[96294 rows x 14 columns]\n"
     ]
    }
   ],
   "source": [
    "print(df_train)\n",
    "\n",
    "df_train.isnull().sum()\n",
    "\n",
    "## 대출기간 컬럼\n",
    "\n",
    "print('36 months'.split()[0])\n",
    "\n",
    "cleaned_df.loc[:,'대출기간'] = cleaned_df.loc[:,'대출기간'].apply(lambda x: x.split()[0])\n",
    "print(cleaned_df)"
   ]
  },
  {
   "cell_type": "code",
   "execution_count": 43,
   "metadata": {},
   "outputs": [
    {
     "name": "stdout",
     "output_type": "stream",
     "text": [
      "6\n",
      "********************************************************************************\n",
      "10\n",
      "********************************************************************************\n"
     ]
    }
   ],
   "source": [
    "## 근로기간 컬럼\n",
    "\n",
    "print('6 years'.split()[0])\n",
    "\n",
    "cleaned_df.loc[:,'근로기간'] = cleaned_df.loc[:, '근로기간'].apply(lambda x: x.split()[0])\n",
    "\n",
    "print('*'*80)\n",
    "\n",
    "print('10 +years'.split()[0])\n",
    "\n",
    "cleaned_df.loc[:,'근로기간'] = cleaned_df.loc[:,'근로기간'].apply(lambda x:x.split()[0])\n",
    "\n",
    "print('*'*80)"
   ]
  }
 ],
 "metadata": {
  "kernelspec": {
   "display_name": "NvulyTarget",
   "language": "python",
   "name": "conda"
  },
  "language_info": {
   "codemirror_mode": {
    "name": "ipython",
    "version": 3
   },
   "file_extension": ".py",
   "mimetype": "text/x-python",
   "name": "python",
   "nbconvert_exporter": "python",
   "pygments_lexer": "ipython3",
   "version": "3.11.5"
  }
 },
 "nbformat": 4,
 "nbformat_minor": 2
}
