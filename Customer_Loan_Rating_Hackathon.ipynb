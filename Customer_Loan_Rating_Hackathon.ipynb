{
 "cells": [
  {
   "cell_type": "markdown",
   "metadata": {},
   "source": [
    "# Objectives \n",
    "- 고객의 대출 등급에 따른 분류\n",
    "\n",
    "\n",
    "train.csv [파일] \n",
    "고객 관련 금융 정보\n",
    "ID : 대출 고객의 고유 ID\n",
    "대출등급 : 예측 목표\n",
    "\n",
    "\n",
    "test.csv [파일]\n",
    "고객 관련 금융 정보\n",
    "ID : 대출 고객의 고유 ID\n",
    "대출등급이 존재하지 않음\n",
    "\n",
    "\n",
    "sample_submission.csv [파일] - 제출 양식\n",
    "ID : 대출 고객의 고유 ID\n",
    "대출등급 : test.csv에서 제공된 고객의 대출등급을 예측하여 기입\n"
   ]
  },
  {
   "cell_type": "markdown",
   "metadata": {},
   "source": [
    "## Import Functions"
   ]
  },
  {
   "cell_type": "code",
   "execution_count": null,
   "metadata": {},
   "outputs": [],
   "source": [
    "import pandas as pd\n",
    "import numpy as np\n",
    "from bs4 import BeautifulSoup\n",
    "import requests\n",
    "import random\n",
    "import os\n",
    "import matplotlib.pyplot as plt\n",
    "import seaborn as sns"
   ]
  },
  {
   "cell_type": "markdown",
   "metadata": {},
   "source": [
    "## Load Train Data"
   ]
  },
  {
   "cell_type": "code",
   "execution_count": null,
   "metadata": {},
   "outputs": [],
   "source": [
    "# 학습용 데이터 불러오기\n",
    "\n",
    "train_path = 'D:\\Code\\[중]고객 대출 등급 분류 해커톤/train.csv'\n",
    "\n",
    "df_train = pd.read_csv(train_path)\n",
    "\n",
    "print(f'학습용 데이터 : \\n{df_train}')\n",
    "\n",
    "df_train.isnull().sum()\n",
    "\n",
    "# 누락 데이터 없음"
   ]
  },
  {
   "cell_type": "code",
   "execution_count": null,
   "metadata": {},
   "outputs": [],
   "source": [
    "df_train.info()"
   ]
  },
  {
   "cell_type": "code",
   "execution_count": null,
   "metadata": {},
   "outputs": [],
   "source": [
    "# 정답, 레이블 컬럼 : 대출등급\n",
    "label = df_train.loc[:,'대출등급']\n",
    "\n",
    "cleaned_df=df_train.drop(columns=['대출등급'])\n",
    "\n",
    "print('*'*80)\n",
    "\n",
    "print(label)\n",
    "\n",
    "print('*'*80)\n",
    "\n",
    "print(cleaned_df)"
   ]
  },
  {
   "cell_type": "markdown",
   "metadata": {},
   "source": [
    "## Outlier(이상치) 확인"
   ]
  },
  {
   "cell_type": "code",
   "execution_count": null,
   "metadata": {},
   "outputs": [],
   "source": [
    "cleaned_df.columns"
   ]
  },
  {
   "cell_type": "code",
   "execution_count": 14,
   "metadata": {},
   "outputs": [],
   "source": [
    "cleaned_df.loc[:,['ID', '대출금액', '대출기간', '근로기간', '주택소유상태', '연간소득', '부채_대비_소득_비율', '총계좌수',\n",
    "       '대출목적', '최근_2년간_연체_횟수', '총상환원금', '총상환이자', '총연체금액', '연체계좌수']].plot(kind='bar', rot=45)\n",
    "plt.show()"
   ]
  },
  {
   "cell_type": "markdown",
   "metadata": {},
   "source": [
    "## Load Test Data"
   ]
  },
  {
   "cell_type": "code",
   "execution_count": null,
   "metadata": {},
   "outputs": [],
   "source": [
    "test_path = 'D:\\Code\\[중]고객 대출 등급 분류 해커톤/test.csv'\n",
    "\n",
    "df_test = pd.read_csv(test_path)\n",
    "\n",
    "print(f'학습용 데이터 : \\n{df_test}')"
   ]
  },
  {
   "cell_type": "code",
   "execution_count": null,
   "metadata": {},
   "outputs": [],
   "source": []
  }
 ],
 "metadata": {
  "kernelspec": {
   "display_name": "NvulyTarget",
   "language": "python",
   "name": "conda"
  },
  "language_info": {
   "codemirror_mode": {
    "name": "ipython",
    "version": 3
   },
   "file_extension": ".py",
   "mimetype": "text/x-python",
   "name": "python",
   "nbconvert_exporter": "python",
   "pygments_lexer": "ipython3",
   "version": "3.11.5"
  }
 },
 "nbformat": 4,
 "nbformat_minor": 2
}
